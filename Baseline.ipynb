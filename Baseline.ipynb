{
 "cells": [
  {
   "cell_type": "markdown",
   "id": "1b470d9c",
   "metadata": {},
   "source": [
    "# Import"
   ]
  },
  {
   "cell_type": "code",
   "execution_count": 1,
   "id": "559dd7ea",
   "metadata": {},
   "outputs": [
    {
     "name": "stderr",
     "output_type": "stream",
     "text": [
      "C:\\Users\\james\\anaconda3\\envs\\tfp7\\lib\\site-packages\\tqdm\\auto.py:22: TqdmWarning: IProgress not found. Please update jupyter and ipywidgets. See https://ipywidgets.readthedocs.io/en/stable/user_install.html\n",
      "  from .autonotebook import tqdm as notebook_tqdm\n"
     ]
    }
   ],
   "source": [
    "## Misc\n",
    "import os\n",
    "import time\n",
    "import warnings\n",
    "import numpy as np\n",
    "import pandas as pd\n",
    "\n",
    "# Model\n",
    "from sklearn.model_selection import TimeSeriesSplit\n",
    "from sklearn.linear_model import LogisticRegression\n",
    "from sklearn.preprocessing import StandardScaler\n",
    "from sklearn.pipeline import Pipeline\n",
    "from sklearn.metrics import accuracy_score, f1_score, mean_absolute_error, confusion_matrix\n",
    "\n",
    "## Seasonality\n",
    "from statsmodels.tsa.seasonal import seasonal_decompose\n",
    "## Features importance\n",
    "import shap\n",
    "\n",
    "## Graphs\n",
    "import matplotlib.pyplot as plt\n",
    "import seaborn as sns\n",
    "\n",
    "## Serialization\n",
    "import joblib"
   ]
  },
  {
   "cell_type": "code",
   "execution_count": 2,
   "id": "b35da92e",
   "metadata": {},
   "outputs": [
    {
     "name": "stdout",
     "output_type": "stream",
     "text": [
      "max_accuracy.jl does not exist\n",
      "ts_model.jl does not exist\n"
     ]
    }
   ],
   "source": [
    "# Remove temporary files\n",
    "try:\n",
    "    os.remove('max_accuracy.jl') \n",
    "    print('max_accuracy.jl removed')\n",
    "except:\n",
    "    print('max_accuracy.jl does not exist')\n",
    "    \n",
    "try:\n",
    "    os.remove('ts_model.jl') \n",
    "    print('ts_model.jl removed')  \n",
    "except:\n",
    "    print('ts_model.jl does not exist')   "
   ]
  },
  {
   "cell_type": "code",
   "execution_count": 3,
   "id": "b3403066",
   "metadata": {},
   "outputs": [],
   "source": [
    "# Allow to display all dataframes columns\n",
    "pd.set_option(\"display.max_columns\", None)\n",
    "\n",
    "# Inactivate warnings\n",
    "warnings.filterwarnings('ignore')"
   ]
  },
  {
   "cell_type": "markdown",
   "id": "b298517b",
   "metadata": {},
   "source": [
    "# Data load"
   ]
  },
  {
   "cell_type": "code",
   "execution_count": 4,
   "id": "6136746e",
   "metadata": {},
   "outputs": [],
   "source": [
    "data = pd.read_csv('./data/cotations_EDF.csv', sep=';', decimal='.', encoding='utf8', low_memory=False)"
   ]
  },
  {
   "cell_type": "code",
   "execution_count": 5,
   "id": "d2e24856",
   "metadata": {
    "scrolled": true
   },
   "outputs": [
    {
     "data": {
      "text/html": [
       "<div>\n",
       "<style scoped>\n",
       "    .dataframe tbody tr th:only-of-type {\n",
       "        vertical-align: middle;\n",
       "    }\n",
       "\n",
       "    .dataframe tbody tr th {\n",
       "        vertical-align: top;\n",
       "    }\n",
       "\n",
       "    .dataframe thead th {\n",
       "        text-align: right;\n",
       "    }\n",
       "</style>\n",
       "<table border=\"1\" class=\"dataframe\">\n",
       "  <thead>\n",
       "    <tr style=\"text-align: right;\">\n",
       "      <th></th>\n",
       "      <th>isin</th>\n",
       "      <th>date</th>\n",
       "      <th>ouverture</th>\n",
       "      <th>haut</th>\n",
       "      <th>bas</th>\n",
       "      <th>cloture</th>\n",
       "      <th>volume</th>\n",
       "    </tr>\n",
       "  </thead>\n",
       "  <tbody>\n",
       "    <tr>\n",
       "      <th>0</th>\n",
       "      <td>FR0010242511</td>\n",
       "      <td>28/02/2022</td>\n",
       "      <td>7.84</td>\n",
       "      <td>8.146</td>\n",
       "      <td>7.810</td>\n",
       "      <td>8.130</td>\n",
       "      <td>4988984</td>\n",
       "    </tr>\n",
       "    <tr>\n",
       "      <th>1</th>\n",
       "      <td>FR0010242511</td>\n",
       "      <td>25/02/2022</td>\n",
       "      <td>7.55</td>\n",
       "      <td>8.044</td>\n",
       "      <td>7.482</td>\n",
       "      <td>7.932</td>\n",
       "      <td>7161356</td>\n",
       "    </tr>\n",
       "    <tr>\n",
       "      <th>2</th>\n",
       "      <td>FR0010242511</td>\n",
       "      <td>24/02/2022</td>\n",
       "      <td>7.59</td>\n",
       "      <td>7.590</td>\n",
       "      <td>7.200</td>\n",
       "      <td>7.500</td>\n",
       "      <td>9257738</td>\n",
       "    </tr>\n",
       "    <tr>\n",
       "      <th>3</th>\n",
       "      <td>FR0010242511</td>\n",
       "      <td>23/02/2022</td>\n",
       "      <td>8.04</td>\n",
       "      <td>8.080</td>\n",
       "      <td>7.808</td>\n",
       "      <td>7.832</td>\n",
       "      <td>2973088</td>\n",
       "    </tr>\n",
       "    <tr>\n",
       "      <th>4</th>\n",
       "      <td>FR0010242511</td>\n",
       "      <td>22/02/2022</td>\n",
       "      <td>7.87</td>\n",
       "      <td>7.996</td>\n",
       "      <td>7.760</td>\n",
       "      <td>7.960</td>\n",
       "      <td>3155739</td>\n",
       "    </tr>\n",
       "  </tbody>\n",
       "</table>\n",
       "</div>"
      ],
      "text/plain": [
       "           isin        date  ouverture   haut    bas  cloture   volume\n",
       "0  FR0010242511  28/02/2022       7.84  8.146  7.810    8.130  4988984\n",
       "1  FR0010242511  25/02/2022       7.55  8.044  7.482    7.932  7161356\n",
       "2  FR0010242511  24/02/2022       7.59  7.590  7.200    7.500  9257738\n",
       "3  FR0010242511  23/02/2022       8.04  8.080  7.808    7.832  2973088\n",
       "4  FR0010242511  22/02/2022       7.87  7.996  7.760    7.960  3155739"
      ]
     },
     "execution_count": 5,
     "metadata": {},
     "output_type": "execute_result"
    }
   ],
   "source": [
    "data.head()"
   ]
  },
  {
   "cell_type": "markdown",
   "id": "81169f3c",
   "metadata": {},
   "source": [
    "# Preprocessing"
   ]
  },
  {
   "cell_type": "markdown",
   "id": "7657ac2f",
   "metadata": {},
   "source": [
    "## Format date"
   ]
  },
  {
   "cell_type": "code",
   "execution_count": 6,
   "id": "f4709132",
   "metadata": {},
   "outputs": [],
   "source": [
    "data['date'] = pd.to_datetime(data['date'])"
   ]
  },
  {
   "cell_type": "markdown",
   "id": "aa93140f",
   "metadata": {},
   "source": [
    "## Sort"
   ]
  },
  {
   "cell_type": "code",
   "execution_count": 7,
   "id": "3f24d720",
   "metadata": {
    "scrolled": true
   },
   "outputs": [],
   "source": [
    "# Sort dataset from past to present\n",
    "data.sort_index(axis=0, ascending=False, inplace=True)\n",
    "data.reset_index(inplace=True)\n",
    "data.drop('index', axis=1, inplace=True)"
   ]
  },
  {
   "cell_type": "markdown",
   "id": "845580d4",
   "metadata": {},
   "source": [
    "## Target"
   ]
  },
  {
   "cell_type": "code",
   "execution_count": 8,
   "id": "2d4d9b1c",
   "metadata": {},
   "outputs": [],
   "source": [
    "data['target'] = (data['cloture'].pct_change().shift(-1) > 0).astype(int)"
   ]
  },
  {
   "cell_type": "code",
   "execution_count": 9,
   "id": "d15cbee1",
   "metadata": {
    "scrolled": false
   },
   "outputs": [
    {
     "data": {
      "text/html": [
       "<div>\n",
       "<style scoped>\n",
       "    .dataframe tbody tr th:only-of-type {\n",
       "        vertical-align: middle;\n",
       "    }\n",
       "\n",
       "    .dataframe tbody tr th {\n",
       "        vertical-align: top;\n",
       "    }\n",
       "\n",
       "    .dataframe thead th {\n",
       "        text-align: right;\n",
       "    }\n",
       "</style>\n",
       "<table border=\"1\" class=\"dataframe\">\n",
       "  <thead>\n",
       "    <tr style=\"text-align: right;\">\n",
       "      <th></th>\n",
       "      <th>isin</th>\n",
       "      <th>date</th>\n",
       "      <th>ouverture</th>\n",
       "      <th>haut</th>\n",
       "      <th>bas</th>\n",
       "      <th>cloture</th>\n",
       "      <th>volume</th>\n",
       "      <th>target</th>\n",
       "    </tr>\n",
       "  </thead>\n",
       "  <tbody>\n",
       "    <tr>\n",
       "      <th>0</th>\n",
       "      <td>FR0010242511</td>\n",
       "      <td>2006-02-01</td>\n",
       "      <td>31.91</td>\n",
       "      <td>32.10</td>\n",
       "      <td>31.81</td>\n",
       "      <td>32.10</td>\n",
       "      <td>262542</td>\n",
       "      <td>1</td>\n",
       "    </tr>\n",
       "    <tr>\n",
       "      <th>1</th>\n",
       "      <td>FR0010242511</td>\n",
       "      <td>2006-03-01</td>\n",
       "      <td>32.10</td>\n",
       "      <td>32.36</td>\n",
       "      <td>32.02</td>\n",
       "      <td>32.36</td>\n",
       "      <td>486574</td>\n",
       "      <td>1</td>\n",
       "    </tr>\n",
       "    <tr>\n",
       "      <th>2</th>\n",
       "      <td>FR0010242511</td>\n",
       "      <td>2006-04-01</td>\n",
       "      <td>32.43</td>\n",
       "      <td>33.37</td>\n",
       "      <td>32.42</td>\n",
       "      <td>33.37</td>\n",
       "      <td>2806007</td>\n",
       "      <td>0</td>\n",
       "    </tr>\n",
       "    <tr>\n",
       "      <th>3</th>\n",
       "      <td>FR0010242511</td>\n",
       "      <td>2006-05-01</td>\n",
       "      <td>33.40</td>\n",
       "      <td>33.40</td>\n",
       "      <td>32.84</td>\n",
       "      <td>33.29</td>\n",
       "      <td>1731173</td>\n",
       "      <td>1</td>\n",
       "    </tr>\n",
       "    <tr>\n",
       "      <th>4</th>\n",
       "      <td>FR0010242511</td>\n",
       "      <td>2006-06-01</td>\n",
       "      <td>33.30</td>\n",
       "      <td>33.33</td>\n",
       "      <td>32.95</td>\n",
       "      <td>33.30</td>\n",
       "      <td>1868319</td>\n",
       "      <td>1</td>\n",
       "    </tr>\n",
       "    <tr>\n",
       "      <th>5</th>\n",
       "      <td>FR0010242511</td>\n",
       "      <td>2006-09-01</td>\n",
       "      <td>33.00</td>\n",
       "      <td>33.60</td>\n",
       "      <td>32.95</td>\n",
       "      <td>33.60</td>\n",
       "      <td>1849156</td>\n",
       "      <td>1</td>\n",
       "    </tr>\n",
       "    <tr>\n",
       "      <th>6</th>\n",
       "      <td>FR0010242511</td>\n",
       "      <td>2006-10-01</td>\n",
       "      <td>33.55</td>\n",
       "      <td>33.66</td>\n",
       "      <td>33.35</td>\n",
       "      <td>33.62</td>\n",
       "      <td>990494</td>\n",
       "      <td>1</td>\n",
       "    </tr>\n",
       "    <tr>\n",
       "      <th>7</th>\n",
       "      <td>FR0010242511</td>\n",
       "      <td>2006-11-01</td>\n",
       "      <td>33.60</td>\n",
       "      <td>34.00</td>\n",
       "      <td>33.60</td>\n",
       "      <td>33.95</td>\n",
       "      <td>1347550</td>\n",
       "      <td>0</td>\n",
       "    </tr>\n",
       "    <tr>\n",
       "      <th>8</th>\n",
       "      <td>FR0010242511</td>\n",
       "      <td>2006-12-01</td>\n",
       "      <td>33.82</td>\n",
       "      <td>34.00</td>\n",
       "      <td>33.62</td>\n",
       "      <td>33.87</td>\n",
       "      <td>1119494</td>\n",
       "      <td>1</td>\n",
       "    </tr>\n",
       "    <tr>\n",
       "      <th>9</th>\n",
       "      <td>FR0010242511</td>\n",
       "      <td>2006-01-13</td>\n",
       "      <td>34.00</td>\n",
       "      <td>34.92</td>\n",
       "      <td>33.92</td>\n",
       "      <td>34.55</td>\n",
       "      <td>2478719</td>\n",
       "      <td>1</td>\n",
       "    </tr>\n",
       "  </tbody>\n",
       "</table>\n",
       "</div>"
      ],
      "text/plain": [
       "           isin       date  ouverture   haut    bas  cloture   volume  target\n",
       "0  FR0010242511 2006-02-01      31.91  32.10  31.81    32.10   262542       1\n",
       "1  FR0010242511 2006-03-01      32.10  32.36  32.02    32.36   486574       1\n",
       "2  FR0010242511 2006-04-01      32.43  33.37  32.42    33.37  2806007       0\n",
       "3  FR0010242511 2006-05-01      33.40  33.40  32.84    33.29  1731173       1\n",
       "4  FR0010242511 2006-06-01      33.30  33.33  32.95    33.30  1868319       1\n",
       "5  FR0010242511 2006-09-01      33.00  33.60  32.95    33.60  1849156       1\n",
       "6  FR0010242511 2006-10-01      33.55  33.66  33.35    33.62   990494       1\n",
       "7  FR0010242511 2006-11-01      33.60  34.00  33.60    33.95  1347550       0\n",
       "8  FR0010242511 2006-12-01      33.82  34.00  33.62    33.87  1119494       1\n",
       "9  FR0010242511 2006-01-13      34.00  34.92  33.92    34.55  2478719       1"
      ]
     },
     "execution_count": 9,
     "metadata": {},
     "output_type": "execute_result"
    }
   ],
   "source": [
    "data.head(10)"
   ]
  },
  {
   "cell_type": "markdown",
   "id": "f50a6135",
   "metadata": {},
   "source": [
    "# Feature engineering"
   ]
  },
  {
   "cell_type": "code",
   "execution_count": 10,
   "id": "39307b62",
   "metadata": {},
   "outputs": [],
   "source": [
    "# Variations\n",
    "data['v_ouverture'] = (data['ouverture'].diff() / data['ouverture'].shift(1)) * 100\n",
    "data['v_bas'] = (data['bas'].diff() / data['bas'].shift(1)) * 100\n",
    "data['v_cloture'] = (data['cloture'].diff() / data['cloture'].shift(1)) * 100\n",
    "data['v_volume'] = (data['volume'].diff() / data['volume'].shift(1)) * 100"
   ]
  },
  {
   "cell_type": "code",
   "execution_count": 11,
   "id": "e3010fd8",
   "metadata": {},
   "outputs": [],
   "source": [
    "# Differences\n",
    "data['d_o_h'] = data['ouverture'] - data['haut']\n",
    "data['d_o_b'] = data['ouverture'] - data['bas']\n",
    "data['d_o_c'] = data['ouverture'] - data['cloture']\n",
    "data['d_h_b'] = data['haut'] - data['bas']"
   ]
  },
  {
   "cell_type": "code",
   "execution_count": 12,
   "id": "87f21b3d",
   "metadata": {},
   "outputs": [],
   "source": [
    "# Number of consecutive increases\n",
    "data['cons_increase'] = 0\n",
    "iteration = 0\n",
    "count = 0\n",
    "\n",
    "for index, row in data.iterrows():\n",
    "    iteration += 1\n",
    "    \n",
    "    if iteration == 1:\n",
    "        data['cons_increase'][index] = np.nan\n",
    "    elif iteration > 1 and iteration < len(data):\n",
    "        if data['cloture'][index] > data['cloture'][index - 1]:\n",
    "            count += 1\n",
    "        else:\n",
    "            count = 0\n",
    "                \n",
    "        data['cons_increase'][index] = count"
   ]
  },
  {
   "cell_type": "code",
   "execution_count": 13,
   "id": "097e0ab1",
   "metadata": {},
   "outputs": [],
   "source": [
    "# Number of consecutive decreases\n",
    "data['cons_decrease'] = 0\n",
    "iteration = 0\n",
    "count = 0\n",
    "\n",
    "for index, row in data.iterrows():\n",
    "    iteration += 1\n",
    "    \n",
    "    if iteration == 1:\n",
    "        data['cons_decrease'][index] = np.nan\n",
    "    elif iteration > 1 and iteration < len(data):\n",
    "        if data['cloture'][index] < data['cloture'][index - 1]:\n",
    "            count += 1\n",
    "        else:\n",
    "            count = 0\n",
    "                \n",
    "        data['cons_decrease'][index] = count"
   ]
  },
  {
   "cell_type": "code",
   "execution_count": 14,
   "id": "8bf2119b",
   "metadata": {},
   "outputs": [],
   "source": [
    "nb_days = [2, 3, 5, 10, 15]"
   ]
  },
  {
   "cell_type": "code",
   "execution_count": 15,
   "id": "961349d1",
   "metadata": {},
   "outputs": [],
   "source": [
    "# Moving averages\n",
    "for days in nb_days:\n",
    "    data['mm' + str(days)] = 0\n",
    "    iteration = 0\n",
    "\n",
    "    for index, row in data.iterrows():\n",
    "        if iteration < days-1:\n",
    "            data['mm' + str(days)][index] = np.nan\n",
    "        else:\n",
    "            data['mm' + str(days)][index] = data['cloture'][index-(days-1):index+1].sum() / days\n",
    "\n",
    "        iteration += 1"
   ]
  },
  {
   "cell_type": "code",
   "execution_count": 16,
   "id": "0a024202",
   "metadata": {},
   "outputs": [],
   "source": [
    "# Moving exponential averages\n",
    "for days in nb_days:\n",
    "    data['mme' + str(days)] = 0\n",
    "    iteration = 0\n",
    "\n",
    "    for index, row in data.iterrows():\n",
    "        if iteration < days:\n",
    "            data['mme' + str(days)][index] = np.nan\n",
    "        else:\n",
    "            data['mme' + str(days)][index] = (\n",
    "                (data['cloture'][index] - data['mm' + str(days)][index-1]) * (2/(days + 1))) + data['mm' + str(days)][index-1]\n",
    "\n",
    "        iteration += 1"
   ]
  },
  {
   "cell_type": "code",
   "execution_count": 17,
   "id": "622cbca0",
   "metadata": {},
   "outputs": [],
   "source": [
    "# MACD 2-x\n",
    "data['macd_2_5'] = data['mme2'] - data['mme5']\n",
    "data['macd_2_15'] = data['mme2'] - data['mme15']"
   ]
  },
  {
   "cell_type": "code",
   "execution_count": 18,
   "id": "eec6592f",
   "metadata": {},
   "outputs": [],
   "source": [
    "# MACD 3-x\n",
    "data['macd_3_5'] = data['mme3'] - data['mme5']\n",
    "data['macd_3_15'] = data['mme3'] - data['mme15']"
   ]
  },
  {
   "cell_type": "code",
   "execution_count": 19,
   "id": "f85a05be",
   "metadata": {},
   "outputs": [],
   "source": [
    "# MACD 5-x\n",
    "data['macd_5_15'] = data['mme5'] - data['mme15']"
   ]
  },
  {
   "cell_type": "markdown",
   "id": "752f053f",
   "metadata": {},
   "source": [
    "## Seasonality"
   ]
  },
  {
   "cell_type": "code",
   "execution_count": 20,
   "id": "1d57f060",
   "metadata": {},
   "outputs": [
    {
     "data": {
      "image/png": "[encoded data removed]",
      "text/plain": [
       "<Figure size 1728x432 with 1 Axes>"
      ]
     },
     "metadata": {
      "needs_background": "light"
     },
     "output_type": "display_data"
    }
   ],
   "source": [
    "# line plot of dataset\n",
    "fig = plt.figure(figsize=(24, 6))\n",
    "data.cloture.plot()\n",
    "plt.show()"
   ]
  },
  {
   "cell_type": "code",
   "execution_count": 21,
   "id": "2ff5ea1c",
   "metadata": {
    "scrolled": false
   },
   "outputs": [
    {
     "data": {
      "image/png": "[encoded data removed]",
      "text/plain": [
       "<Figure size 432x288 with 4 Axes>"
      ]
     },
     "metadata": {
      "needs_background": "light"
     },
     "output_type": "display_data"
    }
   ],
   "source": [
    "# Seasonality cloture\n",
    "result = seasonal_decompose(data.cloture, model='multiplicative', period=180, extrapolate_trend='freq')\n",
    "result.plot()\n",
    "plt.show()"
   ]
  },
  {
   "cell_type": "code",
   "execution_count": 22,
   "id": "2843e430",
   "metadata": {},
   "outputs": [],
   "source": [
    "data['trend'] = result.trend"
   ]
  },
  {
   "cell_type": "code",
   "execution_count": 23,
   "id": "3a466b55",
   "metadata": {},
   "outputs": [],
   "source": [
    "data['trend_variation1'] = data['trend'].diff()\n",
    "data['trend_variation3'] = data['trend'].diff(3)\n",
    "data['trend_variation15'] = data['trend'].diff(15)"
   ]
  },
  {
   "cell_type": "code",
   "execution_count": 24,
   "id": "c2d6129c",
   "metadata": {},
   "outputs": [],
   "source": [
    "# Make stationary\n",
    "data['cloture_adj'] = data['cloture'].diff(60)"
   ]
  },
  {
   "cell_type": "code",
   "execution_count": 25,
   "id": "55e07a32",
   "metadata": {},
   "outputs": [],
   "source": [
    "# Adjusted lags\n",
    "data['lag_2_adj'] = data['cloture_adj'].shift(2)\n",
    "data['lag_4_adj'] = data['cloture_adj'].shift(4)\n",
    "data['lag_5_adj'] = data['cloture_adj'].shift(5)"
   ]
  },
  {
   "cell_type": "code",
   "execution_count": 26,
   "id": "5f3f535c",
   "metadata": {},
   "outputs": [
    {
     "data": {
      "text/html": [
       "<div>\n",
       "<style scoped>\n",
       "    .dataframe tbody tr th:only-of-type {\n",
       "        vertical-align: middle;\n",
       "    }\n",
       "\n",
       "    .dataframe tbody tr th {\n",
       "        vertical-align: top;\n",
       "    }\n",
       "\n",
       "    .dataframe thead th {\n",
       "        text-align: right;\n",
       "    }\n",
       "</style>\n",
       "<table border=\"1\" class=\"dataframe\">\n",
       "  <thead>\n",
       "    <tr style=\"text-align: right;\">\n",
       "      <th></th>\n",
       "      <th>isin</th>\n",
       "      <th>date</th>\n",
       "      <th>ouverture</th>\n",
       "      <th>haut</th>\n",
       "      <th>bas</th>\n",
       "      <th>cloture</th>\n",
       "      <th>volume</th>\n",
       "      <th>target</th>\n",
       "      <th>v_ouverture</th>\n",
       "      <th>v_bas</th>\n",
       "      <th>v_cloture</th>\n",
       "      <th>v_volume</th>\n",
       "      <th>d_o_h</th>\n",
       "      <th>d_o_b</th>\n",
       "      <th>d_o_c</th>\n",
       "      <th>d_h_b</th>\n",
       "      <th>cons_increase</th>\n",
       "      <th>cons_decrease</th>\n",
       "      <th>mm2</th>\n",
       "      <th>mm3</th>\n",
       "      <th>mm5</th>\n",
       "      <th>mm10</th>\n",
       "      <th>mm15</th>\n",
       "      <th>mme2</th>\n",
       "      <th>mme3</th>\n",
       "      <th>mme5</th>\n",
       "      <th>mme10</th>\n",
       "      <th>mme15</th>\n",
       "      <th>macd_2_5</th>\n",
       "      <th>macd_2_15</th>\n",
       "      <th>macd_3_5</th>\n",
       "      <th>macd_3_15</th>\n",
       "      <th>macd_5_15</th>\n",
       "      <th>trend</th>\n",
       "      <th>trend_variation1</th>\n",
       "      <th>trend_variation3</th>\n",
       "      <th>trend_variation15</th>\n",
       "      <th>cloture_adj</th>\n",
       "      <th>lag_2_adj</th>\n",
       "      <th>lag_4_adj</th>\n",
       "      <th>lag_5_adj</th>\n",
       "    </tr>\n",
       "  </thead>\n",
       "  <tbody>\n",
       "    <tr>\n",
       "      <th>0</th>\n",
       "      <td>FR0010242511</td>\n",
       "      <td>2006-02-01</td>\n",
       "      <td>31.91</td>\n",
       "      <td>32.10</td>\n",
       "      <td>31.81</td>\n",
       "      <td>32.10</td>\n",
       "      <td>262542</td>\n",
       "      <td>1</td>\n",
       "      <td>NaN</td>\n",
       "      <td>NaN</td>\n",
       "      <td>NaN</td>\n",
       "      <td>NaN</td>\n",
       "      <td>-0.19</td>\n",
       "      <td>0.10</td>\n",
       "      <td>-0.19</td>\n",
       "      <td>0.29</td>\n",
       "      <td>NaN</td>\n",
       "      <td>NaN</td>\n",
       "      <td>NaN</td>\n",
       "      <td>NaN</td>\n",
       "      <td>NaN</td>\n",
       "      <td>NaN</td>\n",
       "      <td>NaN</td>\n",
       "      <td>NaN</td>\n",
       "      <td>NaN</td>\n",
       "      <td>NaN</td>\n",
       "      <td>NaN</td>\n",
       "      <td>NaN</td>\n",
       "      <td>NaN</td>\n",
       "      <td>NaN</td>\n",
       "      <td>NaN</td>\n",
       "      <td>NaN</td>\n",
       "      <td>NaN</td>\n",
       "      <td>43.039643</td>\n",
       "      <td>NaN</td>\n",
       "      <td>NaN</td>\n",
       "      <td>NaN</td>\n",
       "      <td>NaN</td>\n",
       "      <td>NaN</td>\n",
       "      <td>NaN</td>\n",
       "      <td>NaN</td>\n",
       "    </tr>\n",
       "    <tr>\n",
       "      <th>1</th>\n",
       "      <td>FR0010242511</td>\n",
       "      <td>2006-03-01</td>\n",
       "      <td>32.10</td>\n",
       "      <td>32.36</td>\n",
       "      <td>32.02</td>\n",
       "      <td>32.36</td>\n",
       "      <td>486574</td>\n",
       "      <td>1</td>\n",
       "      <td>0.595425</td>\n",
       "      <td>0.660170</td>\n",
       "      <td>0.809969</td>\n",
       "      <td>85.331871</td>\n",
       "      <td>-0.26</td>\n",
       "      <td>0.08</td>\n",
       "      <td>-0.26</td>\n",
       "      <td>0.34</td>\n",
       "      <td>1.0</td>\n",
       "      <td>0.0</td>\n",
       "      <td>32.230</td>\n",
       "      <td>NaN</td>\n",
       "      <td>NaN</td>\n",
       "      <td>NaN</td>\n",
       "      <td>NaN</td>\n",
       "      <td>NaN</td>\n",
       "      <td>NaN</td>\n",
       "      <td>NaN</td>\n",
       "      <td>NaN</td>\n",
       "      <td>NaN</td>\n",
       "      <td>NaN</td>\n",
       "      <td>NaN</td>\n",
       "      <td>NaN</td>\n",
       "      <td>NaN</td>\n",
       "      <td>NaN</td>\n",
       "      <td>43.036780</td>\n",
       "      <td>-0.002862</td>\n",
       "      <td>NaN</td>\n",
       "      <td>NaN</td>\n",
       "      <td>NaN</td>\n",
       "      <td>NaN</td>\n",
       "      <td>NaN</td>\n",
       "      <td>NaN</td>\n",
       "    </tr>\n",
       "    <tr>\n",
       "      <th>2</th>\n",
       "      <td>FR0010242511</td>\n",
       "      <td>2006-04-01</td>\n",
       "      <td>32.43</td>\n",
       "      <td>33.37</td>\n",
       "      <td>32.42</td>\n",
       "      <td>33.37</td>\n",
       "      <td>2806007</td>\n",
       "      <td>0</td>\n",
       "      <td>1.028037</td>\n",
       "      <td>1.249219</td>\n",
       "      <td>3.121137</td>\n",
       "      <td>476.686588</td>\n",
       "      <td>-0.94</td>\n",
       "      <td>0.01</td>\n",
       "      <td>-0.94</td>\n",
       "      <td>0.95</td>\n",
       "      <td>2.0</td>\n",
       "      <td>0.0</td>\n",
       "      <td>32.865</td>\n",
       "      <td>32.610000</td>\n",
       "      <td>NaN</td>\n",
       "      <td>NaN</td>\n",
       "      <td>NaN</td>\n",
       "      <td>32.990000</td>\n",
       "      <td>NaN</td>\n",
       "      <td>NaN</td>\n",
       "      <td>NaN</td>\n",
       "      <td>NaN</td>\n",
       "      <td>NaN</td>\n",
       "      <td>NaN</td>\n",
       "      <td>NaN</td>\n",
       "      <td>NaN</td>\n",
       "      <td>NaN</td>\n",
       "      <td>43.033918</td>\n",
       "      <td>-0.002862</td>\n",
       "      <td>NaN</td>\n",
       "      <td>NaN</td>\n",
       "      <td>NaN</td>\n",
       "      <td>NaN</td>\n",
       "      <td>NaN</td>\n",
       "      <td>NaN</td>\n",
       "    </tr>\n",
       "    <tr>\n",
       "      <th>3</th>\n",
       "      <td>FR0010242511</td>\n",
       "      <td>2006-05-01</td>\n",
       "      <td>33.40</td>\n",
       "      <td>33.40</td>\n",
       "      <td>32.84</td>\n",
       "      <td>33.29</td>\n",
       "      <td>1731173</td>\n",
       "      <td>1</td>\n",
       "      <td>2.991058</td>\n",
       "      <td>1.295497</td>\n",
       "      <td>-0.239736</td>\n",
       "      <td>-38.304751</td>\n",
       "      <td>0.00</td>\n",
       "      <td>0.56</td>\n",
       "      <td>0.11</td>\n",
       "      <td>0.56</td>\n",
       "      <td>0.0</td>\n",
       "      <td>1.0</td>\n",
       "      <td>33.330</td>\n",
       "      <td>33.006667</td>\n",
       "      <td>NaN</td>\n",
       "      <td>NaN</td>\n",
       "      <td>NaN</td>\n",
       "      <td>33.148333</td>\n",
       "      <td>32.950000</td>\n",
       "      <td>NaN</td>\n",
       "      <td>NaN</td>\n",
       "      <td>NaN</td>\n",
       "      <td>NaN</td>\n",
       "      <td>NaN</td>\n",
       "      <td>NaN</td>\n",
       "      <td>NaN</td>\n",
       "      <td>NaN</td>\n",
       "      <td>43.031056</td>\n",
       "      <td>-0.002862</td>\n",
       "      <td>-0.008587</td>\n",
       "      <td>NaN</td>\n",
       "      <td>NaN</td>\n",
       "      <td>NaN</td>\n",
       "      <td>NaN</td>\n",
       "      <td>NaN</td>\n",
       "    </tr>\n",
       "    <tr>\n",
       "      <th>4</th>\n",
       "      <td>FR0010242511</td>\n",
       "      <td>2006-06-01</td>\n",
       "      <td>33.30</td>\n",
       "      <td>33.33</td>\n",
       "      <td>32.95</td>\n",
       "      <td>33.30</td>\n",
       "      <td>1868319</td>\n",
       "      <td>1</td>\n",
       "      <td>-0.299401</td>\n",
       "      <td>0.334957</td>\n",
       "      <td>0.030039</td>\n",
       "      <td>7.922143</td>\n",
       "      <td>-0.03</td>\n",
       "      <td>0.35</td>\n",
       "      <td>0.00</td>\n",
       "      <td>0.38</td>\n",
       "      <td>1.0</td>\n",
       "      <td>0.0</td>\n",
       "      <td>33.295</td>\n",
       "      <td>33.320000</td>\n",
       "      <td>32.884</td>\n",
       "      <td>NaN</td>\n",
       "      <td>NaN</td>\n",
       "      <td>33.310000</td>\n",
       "      <td>33.153333</td>\n",
       "      <td>NaN</td>\n",
       "      <td>NaN</td>\n",
       "      <td>NaN</td>\n",
       "      <td>NaN</td>\n",
       "      <td>NaN</td>\n",
       "      <td>NaN</td>\n",
       "      <td>NaN</td>\n",
       "      <td>NaN</td>\n",
       "      <td>43.028194</td>\n",
       "      <td>-0.002862</td>\n",
       "      <td>-0.008587</td>\n",
       "      <td>NaN</td>\n",
       "      <td>NaN</td>\n",
       "      <td>NaN</td>\n",
       "      <td>NaN</td>\n",
       "      <td>NaN</td>\n",
       "    </tr>\n",
       "  </tbody>\n",
       "</table>\n",
       "</div>"
      ],
      "text/plain": [
       "           isin       date  ouverture   haut    bas  cloture   volume  target  \\\n",
       "0  FR0010242511 2006-02-01      31.91  32.10  31.81    32.10   262542       1   \n",
       "1  FR0010242511 2006-03-01      32.10  32.36  32.02    32.36   486574       1   \n",
       "2  FR0010242511 2006-04-01      32.43  33.37  32.42    33.37  2806007       0   \n",
       "3  FR0010242511 2006-05-01      33.40  33.40  32.84    33.29  1731173       1   \n",
       "4  FR0010242511 2006-06-01      33.30  33.33  32.95    33.30  1868319       1   \n",
       "\n",
       "   v_ouverture     v_bas  v_cloture    v_volume  d_o_h  d_o_b  d_o_c  d_h_b  \\\n",
       "0          NaN       NaN        NaN         NaN  -0.19   0.10  -0.19   0.29   \n",
       "1     0.595425  0.660170   0.809969   85.331871  -0.26   0.08  -0.26   0.34   \n",
       "2     1.028037  1.249219   3.121137  476.686588  -0.94   0.01  -0.94   0.95   \n",
       "3     2.991058  1.295497  -0.239736  -38.304751   0.00   0.56   0.11   0.56   \n",
       "4    -0.299401  0.334957   0.030039    7.922143  -0.03   0.35   0.00   0.38   \n",
       "\n",
       "   cons_increase  cons_decrease     mm2        mm3     mm5  mm10  mm15  \\\n",
       "0            NaN            NaN     NaN        NaN     NaN   NaN   NaN   \n",
       "1            1.0            0.0  32.230        NaN     NaN   NaN   NaN   \n",
       "2            2.0            0.0  32.865  32.610000     NaN   NaN   NaN   \n",
       "3            0.0            1.0  33.330  33.006667     NaN   NaN   NaN   \n",
       "4            1.0            0.0  33.295  33.320000  32.884   NaN   NaN   \n",
       "\n",
       "        mme2       mme3  mme5  mme10  mme15  macd_2_5  macd_2_15  macd_3_5  \\\n",
       "0        NaN        NaN   NaN    NaN    NaN       NaN        NaN       NaN   \n",
       "1        NaN        NaN   NaN    NaN    NaN       NaN        NaN       NaN   \n",
       "2  32.990000        NaN   NaN    NaN    NaN       NaN        NaN       NaN   \n",
       "3  33.148333  32.950000   NaN    NaN    NaN       NaN        NaN       NaN   \n",
       "4  33.310000  33.153333   NaN    NaN    NaN       NaN        NaN       NaN   \n",
       "\n",
       "   macd_3_15  macd_5_15      trend  trend_variation1  trend_variation3  \\\n",
       "0        NaN        NaN  43.039643               NaN               NaN   \n",
       "1        NaN        NaN  43.036780         -0.002862               NaN   \n",
       "2        NaN        NaN  43.033918         -0.002862               NaN   \n",
       "3        NaN        NaN  43.031056         -0.002862         -0.008587   \n",
       "4        NaN        NaN  43.028194         -0.002862         -0.008587   \n",
       "\n",
       "   trend_variation15  cloture_adj  lag_2_adj  lag_4_adj  lag_5_adj  \n",
       "0                NaN          NaN        NaN        NaN        NaN  \n",
       "1                NaN          NaN        NaN        NaN        NaN  \n",
       "2                NaN          NaN        NaN        NaN        NaN  \n",
       "3                NaN          NaN        NaN        NaN        NaN  \n",
       "4                NaN          NaN        NaN        NaN        NaN  "
      ]
     },
     "execution_count": 26,
     "metadata": {},
     "output_type": "execute_result"
    }
   ],
   "source": [
    "data.head()"
   ]
  },
  {
   "cell_type": "markdown",
   "id": "a4459432",
   "metadata": {},
   "source": [
    "# Data exploration"
   ]
  },
  {
   "cell_type": "code",
   "execution_count": 27,
   "id": "d9fb9145",
   "metadata": {},
   "outputs": [
    {
     "data": {
      "text/plain": [
       "Index(['isin', 'date', 'ouverture', 'haut', 'bas', 'cloture', 'volume',\n",
       "       'target', 'v_ouverture', 'v_bas', 'v_cloture', 'v_volume', 'd_o_h',\n",
       "       'd_o_b', 'd_o_c', 'd_h_b', 'cons_increase', 'cons_decrease', 'mm2',\n",
       "       'mm3', 'mm5', 'mm10', 'mm15', 'mme2', 'mme3', 'mme5', 'mme10', 'mme15',\n",
       "       'macd_2_5', 'macd_2_15', 'macd_3_5', 'macd_3_15', 'macd_5_15', 'trend',\n",
       "       'trend_variation1', 'trend_variation3', 'trend_variation15',\n",
       "       'cloture_adj', 'lag_2_adj', 'lag_4_adj', 'lag_5_adj'],\n",
       "      dtype='object')"
      ]
     },
     "execution_count": 27,
     "metadata": {},
     "output_type": "execute_result"
    }
   ],
   "source": [
    "data.columns"
   ]
  },
  {
   "cell_type": "markdown",
   "id": "74ce598c",
   "metadata": {},
   "source": [
    "## Useless columns"
   ]
  },
  {
   "cell_type": "code",
   "execution_count": 28,
   "id": "a029f7ad",
   "metadata": {},
   "outputs": [],
   "source": [
    "data.drop(['isin', 'date', 'ouverture', 'haut', 'bas',\n",
    "           'cloture', 'volume', 'mm2', 'mm3', 'mm5',\n",
    "           'mm10', 'mm15', 'mme2', 'mme3', 'mme5',\n",
    "           'mme10', 'mme15', 'cloture_adj'], axis=1, inplace=True)"
   ]
  },
  {
   "cell_type": "markdown",
   "id": "70e68eb2",
   "metadata": {},
   "source": [
    "## Target variables"
   ]
  },
  {
   "cell_type": "code",
   "execution_count": 29,
   "id": "098d9e6d",
   "metadata": {},
   "outputs": [
    {
     "data": {
      "text/plain": [
       "<AxesSubplot:ylabel='target'>"
      ]
     },
     "execution_count": 29,
     "metadata": {},
     "output_type": "execute_result"
    },
    {
     "data": {
      "image/png": "[encoded data removed]",
      "text/plain": [
       "<Figure size 432x288 with 1 Axes>"
      ]
     },
     "metadata": {},
     "output_type": "display_data"
    }
   ],
   "source": [
    "data['target'].value_counts().plot(kind='pie', autopct='%1.1f%%')"
   ]
  },
  {
   "cell_type": "code",
   "execution_count": 30,
   "id": "22c22aa2",
   "metadata": {},
   "outputs": [],
   "source": [
    "increase = data[data['target'] == True]"
   ]
  },
  {
   "cell_type": "code",
   "execution_count": 31,
   "id": "b92bddcc",
   "metadata": {},
   "outputs": [],
   "source": [
    "decrease = data[data['target'] == False]"
   ]
  },
  {
   "cell_type": "markdown",
   "id": "c59d7bf4",
   "metadata": {},
   "source": [
    "## Rows and columns"
   ]
  },
  {
   "cell_type": "code",
   "execution_count": 32,
   "id": "00f70400",
   "metadata": {},
   "outputs": [
    {
     "data": {
      "text/plain": [
       "(4136, 23)"
      ]
     },
     "execution_count": 32,
     "metadata": {},
     "output_type": "execute_result"
    }
   ],
   "source": [
    "data.shape"
   ]
  },
  {
   "cell_type": "markdown",
   "id": "289a9718",
   "metadata": {},
   "source": [
    "## Missing values"
   ]
  },
  {
   "cell_type": "code",
   "execution_count": 33,
   "id": "b469c347",
   "metadata": {
    "scrolled": true
   },
   "outputs": [
    {
     "data": {
      "text/plain": [
       "target               False\n",
       "v_ouverture           True\n",
       "v_bas                 True\n",
       "v_cloture             True\n",
       "v_volume              True\n",
       "d_o_h                False\n",
       "d_o_b                False\n",
       "d_o_c                False\n",
       "d_h_b                False\n",
       "cons_increase         True\n",
       "cons_decrease         True\n",
       "macd_2_5              True\n",
       "macd_2_15             True\n",
       "macd_3_5              True\n",
       "macd_3_15             True\n",
       "macd_5_15             True\n",
       "trend                False\n",
       "trend_variation1      True\n",
       "trend_variation3      True\n",
       "trend_variation15     True\n",
       "lag_2_adj             True\n",
       "lag_4_adj             True\n",
       "lag_5_adj             True\n",
       "dtype: bool"
      ]
     },
     "execution_count": 33,
     "metadata": {},
     "output_type": "execute_result"
    }
   ],
   "source": [
    "data.isnull().any()"
   ]
  },
  {
   "cell_type": "code",
   "execution_count": 34,
   "id": "7da19576",
   "metadata": {},
   "outputs": [],
   "source": [
    "data = data [data['lag_5_adj'].notna()]"
   ]
  },
  {
   "cell_type": "code",
   "execution_count": 35,
   "id": "845dfdca",
   "metadata": {
    "scrolled": true
   },
   "outputs": [
    {
     "data": {
      "text/plain": [
       "target               False\n",
       "v_ouverture          False\n",
       "v_bas                False\n",
       "v_cloture            False\n",
       "v_volume             False\n",
       "d_o_h                False\n",
       "d_o_b                False\n",
       "d_o_c                False\n",
       "d_h_b                False\n",
       "cons_increase        False\n",
       "cons_decrease        False\n",
       "macd_2_5             False\n",
       "macd_2_15            False\n",
       "macd_3_5             False\n",
       "macd_3_15            False\n",
       "macd_5_15            False\n",
       "trend                False\n",
       "trend_variation1     False\n",
       "trend_variation3     False\n",
       "trend_variation15    False\n",
       "lag_2_adj            False\n",
       "lag_4_adj            False\n",
       "lag_5_adj            False\n",
       "dtype: bool"
      ]
     },
     "execution_count": 35,
     "metadata": {},
     "output_type": "execute_result"
    }
   ],
   "source": [
    "data.isnull().any()"
   ]
  },
  {
   "cell_type": "markdown",
   "id": "aad08b14",
   "metadata": {},
   "source": [
    "## Increase / decrease"
   ]
  },
  {
   "cell_type": "code",
   "execution_count": 36,
   "id": "e921bbd2",
   "metadata": {},
   "outputs": [
    {
     "data": {
      "text/plain": [
       "Index(['target', 'v_ouverture', 'v_bas', 'v_cloture', 'v_volume', 'd_o_h',\n",
       "       'd_o_b', 'd_o_c', 'd_h_b', 'cons_increase', 'cons_decrease', 'macd_2_5',\n",
       "       'macd_2_15', 'macd_3_5', 'macd_3_15', 'macd_5_15', 'trend',\n",
       "       'trend_variation1', 'trend_variation3', 'trend_variation15',\n",
       "       'lag_2_adj', 'lag_4_adj', 'lag_5_adj'],\n",
       "      dtype='object')"
      ]
     },
     "execution_count": 36,
     "metadata": {},
     "output_type": "execute_result"
    }
   ],
   "source": [
    "data.columns"
   ]
  },
  {
   "cell_type": "code",
   "execution_count": 37,
   "id": "449cf314",
   "metadata": {},
   "outputs": [
    {
     "data": {
      "image/png": "[encoded data removed]",
      "text/plain": [
       "<Figure size 432x288 with 1 Axes>"
      ]
     },
     "metadata": {
      "needs_background": "light"
     },
     "output_type": "display_data"
    },
    {
     "data": {
      "image/png": "[encoded data removed]",
      "text/plain": [
       "<Figure size 432x288 with 1 Axes>"
      ]
     },
     "metadata": {
      "needs_background": "light"
     },
     "output_type": "display_data"
    },
    {
     "data": {
      "image/png": "[encoded data removed]",
      "text/plain": [
       "<Figure size 432x288 with 1 Axes>"
      ]
     },
     "metadata": {
      "needs_background": "light"
     },
     "output_type": "display_data"
    },
    {
     "data": {
      "image/png": "[encoded data removed]",
      "text/plain": [
       "<Figure size 432x288 with 1 Axes>"
      ]
     },
     "metadata": {
      "needs_background": "light"
     },
     "output_type": "display_data"
    }
   ],
   "source": [
    "variations = ['v_ouverture', 'v_bas', 'v_cloture', 'v_volume']\n",
    "for col in variations:\n",
    "    plt.figure()\n",
    "    sns.distplot(increase[col], label='increase')\n",
    "    sns.distplot(decrease[col], label='decrease')\n",
    "    plt.legend()"
   ]
  },
  {
   "cell_type": "code",
   "execution_count": 38,
   "id": "cfa4ba73",
   "metadata": {},
   "outputs": [
    {
     "data": {
      "image/png": "[encoded data removed]",
      "text/plain": [
       "<Figure size 432x288 with 1 Axes>"
      ]
     },
     "metadata": {
      "needs_background": "light"
     },
     "output_type": "display_data"
    },
    {
     "data": {
      "image/png": "[encoded data removed]",
      "text/plain": [
       "<Figure size 432x288 with 1 Axes>"
      ]
     },
     "metadata": {
      "needs_background": "light"
     },
     "output_type": "display_data"
    },
    {
     "data": {
      "image/png": "[encoded data removed]",
      "text/plain": [
       "<Figure size 432x288 with 1 Axes>"
      ]
     },
     "metadata": {
      "needs_background": "light"
     },
     "output_type": "display_data"
    },
    {
     "data": {
      "image/png": "[encoded data removed]",
      "text/plain": [
       "<Figure size 432x288 with 1 Axes>"
      ]
     },
     "metadata": {
      "needs_background": "light"
     },
     "output_type": "display_data"
    }
   ],
   "source": [
    "deltas = ['d_o_h', 'd_o_b', 'd_o_c', 'd_h_b']\n",
    "for col in deltas:\n",
    "    plt.figure()\n",
    "    sns.distplot(increase[col], label='increase')\n",
    "    sns.distplot(decrease[col], label='decrease')\n",
    "    plt.legend()"
   ]
  },
  {
   "cell_type": "code",
   "execution_count": 39,
   "id": "68807ec9",
   "metadata": {
    "scrolled": true
   },
   "outputs": [
    {
     "data": {
      "image/png": "[encoded data removed]",
      "text/plain": [
       "<Figure size 432x288 with 1 Axes>"
      ]
     },
     "metadata": {
      "needs_background": "light"
     },
     "output_type": "display_data"
    },
    {
     "data": {
      "image/png": "[encoded data removed]",
      "text/plain": [
       "<Figure size 432x288 with 1 Axes>"
      ]
     },
     "metadata": {
      "needs_background": "light"
     },
     "output_type": "display_data"
    }
   ],
   "source": [
    "cons = ['cons_increase', 'cons_decrease']\n",
    "for col in cons:\n",
    "    plt.figure()\n",
    "    sns.distplot(increase[col], label='increase')\n",
    "    sns.distplot(decrease[col], label='decrease')\n",
    "    plt.legend()"
   ]
  },
  {
   "cell_type": "code",
   "execution_count": 40,
   "id": "a57f3a96",
   "metadata": {},
   "outputs": [
    {
     "data": {
      "image/png": "[encoded data removed]",
      "text/plain": [
       "<Figure size 432x288 with 1 Axes>"
      ]
     },
     "metadata": {
      "needs_background": "light"
     },
     "output_type": "display_data"
    },
    {
     "data": {
      "image/png": "[encoded data removed]",
      "text/plain": [
       "<Figure size 432x288 with 1 Axes>"
      ]
     },
     "metadata": {
      "needs_background": "light"
     },
     "output_type": "display_data"
    },
    {
     "data": {
      "image/png": "[encoded data removed]",
      "text/plain": [
       "<Figure size 432x288 with 1 Axes>"
      ]
     },
     "metadata": {
      "needs_background": "light"
     },
     "output_type": "display_data"
    },
    {
     "data": {
      "image/png": "[encoded data removed]",
      "text/plain": [
       "<Figure size 432x288 with 1 Axes>"
      ]
     },
     "metadata": {
      "needs_background": "light"
     },
     "output_type": "display_data"
    },
    {
     "data": {
      "image/png": "[encoded data removed]",
      "text/plain": [
       "<Figure size 432x288 with 1 Axes>"
      ]
     },
     "metadata": {
      "needs_background": "light"
     },
     "output_type": "display_data"
    }
   ],
   "source": [
    "mms = ['macd_2_5', 'macd_2_15', 'macd_3_5', 'macd_3_15', 'macd_5_15']\n",
    "for col in mms:\n",
    "    plt.figure()\n",
    "    sns.distplot(increase[col], label='increase')\n",
    "    sns.distplot(decrease[col], label='decrease')\n",
    "    plt.legend()"
   ]
  },
  {
   "cell_type": "code",
   "execution_count": 41,
   "id": "ed05cb74",
   "metadata": {},
   "outputs": [
    {
     "data": {
      "image/png": "[encoded data removed]",
      "text/plain": [
       "<Figure size 432x288 with 1 Axes>"
      ]
     },
     "metadata": {
      "needs_background": "light"
     },
     "output_type": "display_data"
    },
    {
     "data": {
      "image/png": "[encoded data removed]",
      "text/plain": [
       "<Figure size 432x288 with 1 Axes>"
      ]
     },
     "metadata": {
      "needs_background": "light"
     },
     "output_type": "display_data"
    },
    {
     "data": {
      "image/png": "[encoded data removed]",
      "text/plain": [
       "<Figure size 432x288 with 1 Axes>"
      ]
     },
     "metadata": {
      "needs_background": "light"
     },
     "output_type": "display_data"
    },
    {
     "data": {
      "image/png": "[encoded data removed]",
      "text/plain": [
       "<Figure size 432x288 with 1 Axes>"
      ]
     },
     "metadata": {
      "needs_background": "light"
     },
     "output_type": "display_data"
    }
   ],
   "source": [
    "season = ['trend', 'trend_variation1', 'trend_variation3', 'trend_variation15']\n",
    "for col in season:\n",
    "    plt.figure()\n",
    "    sns.distplot(increase[col], label='increase')\n",
    "    sns.distplot(decrease[col], label='decrease')\n",
    "    plt.legend()"
   ]
  },
  {
   "cell_type": "code",
   "execution_count": 42,
   "id": "c7300897",
   "metadata": {},
   "outputs": [
    {
     "data": {
      "image/png": "[encoded data removed]",
      "text/plain": [
       "<Figure size 432x288 with 1 Axes>"
      ]
     },
     "metadata": {
      "needs_background": "light"
     },
     "output_type": "display_data"
    },
    {
     "data": {
      "image/png": "[encoded data removed]",
      "text/plain": [
       "<Figure size 432x288 with 1 Axes>"
      ]
     },
     "metadata": {
      "needs_background": "light"
     },
     "output_type": "display_data"
    },
    {
     "data": {
      "image/png": "[encoded data removed]",
      "text/plain": [
       "<Figure size 432x288 with 1 Axes>"
      ]
     },
     "metadata": {
      "needs_background": "light"
     },
     "output_type": "display_data"
    }
   ],
   "source": [
    "lags = ['lag_2_adj', 'lag_4_adj', 'lag_5_adj']\n",
    "for col in lags:\n",
    "    plt.figure()\n",
    "    sns.distplot(increase[col], label='increase')\n",
    "    sns.distplot(decrease[col], label='decrease')\n",
    "    plt.legend()"
   ]
  },
  {
   "cell_type": "markdown",
   "id": "1a2085e9",
   "metadata": {},
   "source": [
    "## Correlation"
   ]
  },
  {
   "cell_type": "code",
   "execution_count": 43,
   "id": "20940b03",
   "metadata": {},
   "outputs": [
    {
     "data": {
      "text/html": [
       "<div>\n",
       "<style scoped>\n",
       "    .dataframe tbody tr th:only-of-type {\n",
       "        vertical-align: middle;\n",
       "    }\n",
       "\n",
       "    .dataframe tbody tr th {\n",
       "        vertical-align: top;\n",
       "    }\n",
       "\n",
       "    .dataframe thead th {\n",
       "        text-align: right;\n",
       "    }\n",
       "</style>\n",
       "<table border=\"1\" class=\"dataframe\">\n",
       "  <thead>\n",
       "    <tr style=\"text-align: right;\">\n",
       "      <th></th>\n",
       "      <th>target</th>\n",
       "      <th>v_ouverture</th>\n",
       "      <th>v_bas</th>\n",
       "      <th>v_cloture</th>\n",
       "      <th>v_volume</th>\n",
       "      <th>d_o_h</th>\n",
       "      <th>d_o_b</th>\n",
       "      <th>d_o_c</th>\n",
       "      <th>d_h_b</th>\n",
       "      <th>cons_increase</th>\n",
       "      <th>cons_decrease</th>\n",
       "      <th>macd_2_5</th>\n",
       "      <th>macd_2_15</th>\n",
       "      <th>macd_3_5</th>\n",
       "      <th>macd_3_15</th>\n",
       "      <th>macd_5_15</th>\n",
       "      <th>trend</th>\n",
       "      <th>trend_variation1</th>\n",
       "      <th>trend_variation3</th>\n",
       "      <th>trend_variation15</th>\n",
       "      <th>lag_2_adj</th>\n",
       "      <th>lag_4_adj</th>\n",
       "      <th>lag_5_adj</th>\n",
       "    </tr>\n",
       "  </thead>\n",
       "  <tbody>\n",
       "    <tr>\n",
       "      <th>target</th>\n",
       "      <td>1.000000</td>\n",
       "      <td>0.007153</td>\n",
       "      <td>0.004811</td>\n",
       "      <td>0.015691</td>\n",
       "      <td>0.017889</td>\n",
       "      <td>0.007965</td>\n",
       "      <td>-0.018535</td>\n",
       "      <td>-0.017338</td>\n",
       "      <td>-0.018694</td>\n",
       "      <td>-0.006398</td>\n",
       "      <td>0.001069</td>\n",
       "      <td>0.007897</td>\n",
       "      <td>-0.004323</td>\n",
       "      <td>0.005627</td>\n",
       "      <td>-0.006457</td>\n",
       "      <td>-0.009641</td>\n",
       "      <td>-0.005626</td>\n",
       "      <td>0.053367</td>\n",
       "      <td>0.052512</td>\n",
       "      <td>0.052131</td>\n",
       "      <td>-0.005109</td>\n",
       "      <td>-0.003255</td>\n",
       "      <td>-0.003083</td>\n",
       "    </tr>\n",
       "    <tr>\n",
       "      <th>v_ouverture</th>\n",
       "      <td>0.007153</td>\n",
       "      <td>1.000000</td>\n",
       "      <td>0.655388</td>\n",
       "      <td>0.306666</td>\n",
       "      <td>-0.053119</td>\n",
       "      <td>0.046840</td>\n",
       "      <td>-0.027911</td>\n",
       "      <td>-0.011393</td>\n",
       "      <td>-0.051604</td>\n",
       "      <td>0.287882</td>\n",
       "      <td>-0.330941</td>\n",
       "      <td>0.417542</td>\n",
       "      <td>0.267729</td>\n",
       "      <td>0.344220</td>\n",
       "      <td>0.212651</td>\n",
       "      <td>0.144396</td>\n",
       "      <td>0.003970</td>\n",
       "      <td>0.072122</td>\n",
       "      <td>0.073767</td>\n",
       "      <td>0.073210</td>\n",
       "      <td>-0.012684</td>\n",
       "      <td>-0.015288</td>\n",
       "      <td>-0.014492</td>\n",
       "    </tr>\n",
       "    <tr>\n",
       "      <th>v_bas</th>\n",
       "      <td>0.004811</td>\n",
       "      <td>0.655388</td>\n",
       "      <td>1.000000</td>\n",
       "      <td>0.743258</td>\n",
       "      <td>-0.298223</td>\n",
       "      <td>-0.179307</td>\n",
       "      <td>-0.406124</td>\n",
       "      <td>-0.411728</td>\n",
       "      <td>-0.171464</td>\n",
       "      <td>0.418378</td>\n",
       "      <td>-0.467484</td>\n",
       "      <td>0.419184</td>\n",
       "      <td>0.254014</td>\n",
       "      <td>0.330534</td>\n",
       "      <td>0.193307</td>\n",
       "      <td>0.125499</td>\n",
       "      <td>0.002270</td>\n",
       "      <td>0.074101</td>\n",
       "      <td>0.077483</td>\n",
       "      <td>0.075591</td>\n",
       "      <td>-0.020834</td>\n",
       "      <td>-0.017542</td>\n",
       "      <td>-0.016889</td>\n",
       "    </tr>\n",
       "    <tr>\n",
       "      <th>v_cloture</th>\n",
       "      <td>0.015691</td>\n",
       "      <td>0.306666</td>\n",
       "      <td>0.743258</td>\n",
       "      <td>1.000000</td>\n",
       "      <td>-0.115692</td>\n",
       "      <td>-0.371806</td>\n",
       "      <td>-0.452897</td>\n",
       "      <td>-0.675109</td>\n",
       "      <td>-0.075549</td>\n",
       "      <td>0.474140</td>\n",
       "      <td>-0.529658</td>\n",
       "      <td>0.381931</td>\n",
       "      <td>0.225725</td>\n",
       "      <td>0.294224</td>\n",
       "      <td>0.168017</td>\n",
       "      <td>0.106813</td>\n",
       "      <td>0.002261</td>\n",
       "      <td>0.071437</td>\n",
       "      <td>0.074085</td>\n",
       "      <td>0.072000</td>\n",
       "      <td>-0.018607</td>\n",
       "      <td>-0.016831</td>\n",
       "      <td>-0.015473</td>\n",
       "    </tr>\n",
       "    <tr>\n",
       "      <th>v_volume</th>\n",
       "      <td>0.017889</td>\n",
       "      <td>-0.053119</td>\n",
       "      <td>-0.298223</td>\n",
       "      <td>-0.115692</td>\n",
       "      <td>1.000000</td>\n",
       "      <td>-0.070428</td>\n",
       "      <td>0.191180</td>\n",
       "      <td>0.089030</td>\n",
       "      <td>0.184927</td>\n",
       "      <td>-0.014296</td>\n",
       "      <td>0.060789</td>\n",
       "      <td>-0.031244</td>\n",
       "      <td>0.001295</td>\n",
       "      <td>-0.013900</td>\n",
       "      <td>0.010565</td>\n",
       "      <td>0.017309</td>\n",
       "      <td>0.013884</td>\n",
       "      <td>0.002778</td>\n",
       "      <td>0.000757</td>\n",
       "      <td>0.009073</td>\n",
       "      <td>0.025222</td>\n",
       "      <td>0.021133</td>\n",
       "      <td>0.016481</td>\n",
       "    </tr>\n",
       "    <tr>\n",
       "      <th>d_o_h</th>\n",
       "      <td>0.007965</td>\n",
       "      <td>0.046840</td>\n",
       "      <td>-0.179307</td>\n",
       "      <td>-0.371806</td>\n",
       "      <td>-0.070428</td>\n",
       "      <td>1.000000</td>\n",
       "      <td>-0.030509</td>\n",
       "      <td>0.566851</td>\n",
       "      <td>-0.694994</td>\n",
       "      <td>-0.200906</td>\n",
       "      <td>0.209004</td>\n",
       "      <td>-0.153003</td>\n",
       "      <td>-0.055512</td>\n",
       "      <td>-0.098105</td>\n",
       "      <td>-0.023871</td>\n",
       "      <td>0.003231</td>\n",
       "      <td>-0.583133</td>\n",
       "      <td>0.045597</td>\n",
       "      <td>0.043654</td>\n",
       "      <td>0.035652</td>\n",
       "      <td>0.012614</td>\n",
       "      <td>0.005464</td>\n",
       "      <td>0.002810</td>\n",
       "    </tr>\n",
       "    <tr>\n",
       "      <th>d_o_b</th>\n",
       "      <td>-0.018535</td>\n",
       "      <td>-0.027911</td>\n",
       "      <td>-0.406124</td>\n",
       "      <td>-0.452897</td>\n",
       "      <td>0.191180</td>\n",
       "      <td>-0.030509</td>\n",
       "      <td>1.000000</td>\n",
       "      <td>0.694778</td>\n",
       "      <td>0.739885</td>\n",
       "      <td>-0.256445</td>\n",
       "      <td>0.288671</td>\n",
       "      <td>-0.357361</td>\n",
       "      <td>-0.261334</td>\n",
       "      <td>-0.297417</td>\n",
       "      <td>-0.217883</td>\n",
       "      <td>-0.166018</td>\n",
       "      <td>0.474291</td>\n",
       "      <td>-0.253365</td>\n",
       "      <td>-0.258744</td>\n",
       "      <td>-0.254830</td>\n",
       "      <td>-0.115650</td>\n",
       "      <td>-0.107653</td>\n",
       "      <td>-0.107060</td>\n",
       "    </tr>\n",
       "    <tr>\n",
       "      <th>d_o_c</th>\n",
       "      <td>-0.017338</td>\n",
       "      <td>-0.011393</td>\n",
       "      <td>-0.411728</td>\n",
       "      <td>-0.675109</td>\n",
       "      <td>0.089030</td>\n",
       "      <td>0.566851</td>\n",
       "      <td>0.694778</td>\n",
       "      <td>1.000000</td>\n",
       "      <td>0.118272</td>\n",
       "      <td>-0.371268</td>\n",
       "      <td>0.418322</td>\n",
       "      <td>-0.438846</td>\n",
       "      <td>-0.277607</td>\n",
       "      <td>-0.347363</td>\n",
       "      <td>-0.215473</td>\n",
       "      <td>-0.146779</td>\n",
       "      <td>-0.012294</td>\n",
       "      <td>-0.149822</td>\n",
       "      <td>-0.154399</td>\n",
       "      <td>-0.152750</td>\n",
       "      <td>-0.043526</td>\n",
       "      <td>-0.039064</td>\n",
       "      <td>-0.040484</td>\n",
       "    </tr>\n",
       "    <tr>\n",
       "      <th>d_h_b</th>\n",
       "      <td>-0.018694</td>\n",
       "      <td>-0.051604</td>\n",
       "      <td>-0.171464</td>\n",
       "      <td>-0.075549</td>\n",
       "      <td>0.184927</td>\n",
       "      <td>-0.694994</td>\n",
       "      <td>0.739885</td>\n",
       "      <td>0.118272</td>\n",
       "      <td>1.000000</td>\n",
       "      <td>-0.049254</td>\n",
       "      <td>0.066986</td>\n",
       "      <td>-0.154090</td>\n",
       "      <td>-0.150628</td>\n",
       "      <td>-0.147918</td>\n",
       "      <td>-0.140668</td>\n",
       "      <td>-0.121600</td>\n",
       "      <td>0.733657</td>\n",
       "      <td>-0.212947</td>\n",
       "      <td>-0.215509</td>\n",
       "      <td>-0.207308</td>\n",
       "      <td>-0.091683</td>\n",
       "      <td>-0.081117</td>\n",
       "      <td>-0.078905</td>\n",
       "    </tr>\n",
       "    <tr>\n",
       "      <th>cons_increase</th>\n",
       "      <td>-0.006398</td>\n",
       "      <td>0.287882</td>\n",
       "      <td>0.418378</td>\n",
       "      <td>0.474140</td>\n",
       "      <td>-0.014296</td>\n",
       "      <td>-0.200906</td>\n",
       "      <td>-0.256445</td>\n",
       "      <td>-0.371268</td>\n",
       "      <td>-0.049254</td>\n",
       "      <td>1.000000</td>\n",
       "      <td>-0.514134</td>\n",
       "      <td>0.336443</td>\n",
       "      <td>0.220135</td>\n",
       "      <td>0.279316</td>\n",
       "      <td>0.176684</td>\n",
       "      <td>0.122159</td>\n",
       "      <td>-0.010196</td>\n",
       "      <td>0.054321</td>\n",
       "      <td>0.056872</td>\n",
       "      <td>0.052631</td>\n",
       "      <td>0.005072</td>\n",
       "      <td>-0.006292</td>\n",
       "      <td>-0.006131</td>\n",
       "    </tr>\n",
       "    <tr>\n",
       "      <th>cons_decrease</th>\n",
       "      <td>0.001069</td>\n",
       "      <td>-0.330941</td>\n",
       "      <td>-0.467484</td>\n",
       "      <td>-0.529658</td>\n",
       "      <td>0.060789</td>\n",
       "      <td>0.209004</td>\n",
       "      <td>0.288671</td>\n",
       "      <td>0.418322</td>\n",
       "      <td>0.066986</td>\n",
       "      <td>-0.514134</td>\n",
       "      <td>1.000000</td>\n",
       "      <td>-0.429146</td>\n",
       "      <td>-0.288419</td>\n",
       "      <td>-0.367751</td>\n",
       "      <td>-0.236795</td>\n",
       "      <td>-0.165875</td>\n",
       "      <td>0.015968</td>\n",
       "      <td>-0.114311</td>\n",
       "      <td>-0.114744</td>\n",
       "      <td>-0.116968</td>\n",
       "      <td>-0.046970</td>\n",
       "      <td>-0.023134</td>\n",
       "      <td>-0.021132</td>\n",
       "    </tr>\n",
       "    <tr>\n",
       "      <th>macd_2_5</th>\n",
       "      <td>0.007897</td>\n",
       "      <td>0.417542</td>\n",
       "      <td>0.419184</td>\n",
       "      <td>0.381931</td>\n",
       "      <td>-0.031244</td>\n",
       "      <td>-0.153003</td>\n",
       "      <td>-0.357361</td>\n",
       "      <td>-0.438846</td>\n",
       "      <td>-0.154090</td>\n",
       "      <td>0.336443</td>\n",
       "      <td>-0.429146</td>\n",
       "      <td>1.000000</td>\n",
       "      <td>0.749595</td>\n",
       "      <td>0.965717</td>\n",
       "      <td>0.665784</td>\n",
       "      <td>0.488698</td>\n",
       "      <td>0.000235</td>\n",
       "      <td>0.220863</td>\n",
       "      <td>0.222745</td>\n",
       "      <td>0.221559</td>\n",
       "      <td>0.113976</td>\n",
       "      <td>-0.003040</td>\n",
       "      <td>-0.024153</td>\n",
       "    </tr>\n",
       "    <tr>\n",
       "      <th>macd_2_15</th>\n",
       "      <td>-0.004323</td>\n",
       "      <td>0.267729</td>\n",
       "      <td>0.254014</td>\n",
       "      <td>0.225725</td>\n",
       "      <td>0.001295</td>\n",
       "      <td>-0.055512</td>\n",
       "      <td>-0.261334</td>\n",
       "      <td>-0.277607</td>\n",
       "      <td>-0.150628</td>\n",
       "      <td>0.220135</td>\n",
       "      <td>-0.288419</td>\n",
       "      <td>0.749595</td>\n",
       "      <td>1.000000</td>\n",
       "      <td>0.775315</td>\n",
       "      <td>0.990943</td>\n",
       "      <td>0.943800</td>\n",
       "      <td>0.006333</td>\n",
       "      <td>0.351732</td>\n",
       "      <td>0.358270</td>\n",
       "      <td>0.367550</td>\n",
       "      <td>0.317699</td>\n",
       "      <td>0.217357</td>\n",
       "      <td>0.175086</td>\n",
       "    </tr>\n",
       "    <tr>\n",
       "      <th>macd_3_5</th>\n",
       "      <td>0.005627</td>\n",
       "      <td>0.344220</td>\n",
       "      <td>0.330534</td>\n",
       "      <td>0.294224</td>\n",
       "      <td>-0.013900</td>\n",
       "      <td>-0.098105</td>\n",
       "      <td>-0.297417</td>\n",
       "      <td>-0.347363</td>\n",
       "      <td>-0.147918</td>\n",
       "      <td>0.279316</td>\n",
       "      <td>-0.367751</td>\n",
       "      <td>0.965717</td>\n",
       "      <td>0.775315</td>\n",
       "      <td>1.000000</td>\n",
       "      <td>0.717289</td>\n",
       "      <td>0.539719</td>\n",
       "      <td>0.000957</td>\n",
       "      <td>0.226182</td>\n",
       "      <td>0.227994</td>\n",
       "      <td>0.226436</td>\n",
       "      <td>0.144289</td>\n",
       "      <td>0.010640</td>\n",
       "      <td>-0.024164</td>\n",
       "    </tr>\n",
       "    <tr>\n",
       "      <th>macd_3_15</th>\n",
       "      <td>-0.006457</td>\n",
       "      <td>0.212651</td>\n",
       "      <td>0.193307</td>\n",
       "      <td>0.168017</td>\n",
       "      <td>0.010565</td>\n",
       "      <td>-0.023871</td>\n",
       "      <td>-0.217883</td>\n",
       "      <td>-0.215473</td>\n",
       "      <td>-0.140668</td>\n",
       "      <td>0.176684</td>\n",
       "      <td>-0.236795</td>\n",
       "      <td>0.665784</td>\n",
       "      <td>0.990943</td>\n",
       "      <td>0.717289</td>\n",
       "      <td>1.000000</td>\n",
       "      <td>0.973712</td>\n",
       "      <td>0.007071</td>\n",
       "      <td>0.353645</td>\n",
       "      <td>0.360490</td>\n",
       "      <td>0.370684</td>\n",
       "      <td>0.338535</td>\n",
       "      <td>0.241265</td>\n",
       "      <td>0.194458</td>\n",
       "    </tr>\n",
       "    <tr>\n",
       "      <th>macd_5_15</th>\n",
       "      <td>-0.009641</td>\n",
       "      <td>0.144396</td>\n",
       "      <td>0.125499</td>\n",
       "      <td>0.106813</td>\n",
       "      <td>0.017309</td>\n",
       "      <td>0.003231</td>\n",
       "      <td>-0.166018</td>\n",
       "      <td>-0.146779</td>\n",
       "      <td>-0.121600</td>\n",
       "      <td>0.122159</td>\n",
       "      <td>-0.165875</td>\n",
       "      <td>0.488698</td>\n",
       "      <td>0.943800</td>\n",
       "      <td>0.539719</td>\n",
       "      <td>0.973712</td>\n",
       "      <td>1.000000</td>\n",
       "      <td>0.008230</td>\n",
       "      <td>0.353333</td>\n",
       "      <td>0.361011</td>\n",
       "      <td>0.373837</td>\n",
       "      <td>0.361848</td>\n",
       "      <td>0.288018</td>\n",
       "      <td>0.242844</td>\n",
       "    </tr>\n",
       "    <tr>\n",
       "      <th>trend</th>\n",
       "      <td>-0.005626</td>\n",
       "      <td>0.003970</td>\n",
       "      <td>0.002270</td>\n",
       "      <td>0.002261</td>\n",
       "      <td>0.013884</td>\n",
       "      <td>-0.583133</td>\n",
       "      <td>0.474291</td>\n",
       "      <td>-0.012294</td>\n",
       "      <td>0.733657</td>\n",
       "      <td>-0.010196</td>\n",
       "      <td>0.015968</td>\n",
       "      <td>0.000235</td>\n",
       "      <td>0.006333</td>\n",
       "      <td>0.000957</td>\n",
       "      <td>0.007071</td>\n",
       "      <td>0.008230</td>\n",
       "      <td>1.000000</td>\n",
       "      <td>-0.008291</td>\n",
       "      <td>-0.004508</td>\n",
       "      <td>0.018492</td>\n",
       "      <td>0.094469</td>\n",
       "      <td>0.099383</td>\n",
       "      <td>0.101787</td>\n",
       "    </tr>\n",
       "    <tr>\n",
       "      <th>trend_variation1</th>\n",
       "      <td>0.053367</td>\n",
       "      <td>0.072122</td>\n",
       "      <td>0.074101</td>\n",
       "      <td>0.071437</td>\n",
       "      <td>0.002778</td>\n",
       "      <td>0.045597</td>\n",
       "      <td>-0.253365</td>\n",
       "      <td>-0.149822</td>\n",
       "      <td>-0.212947</td>\n",
       "      <td>0.054321</td>\n",
       "      <td>-0.114311</td>\n",
       "      <td>0.220863</td>\n",
       "      <td>0.351732</td>\n",
       "      <td>0.226182</td>\n",
       "      <td>0.353645</td>\n",
       "      <td>0.353333</td>\n",
       "      <td>-0.008291</td>\n",
       "      <td>1.000000</td>\n",
       "      <td>0.985194</td>\n",
       "      <td>0.942083</td>\n",
       "      <td>0.600985</td>\n",
       "      <td>0.577189</td>\n",
       "      <td>0.566374</td>\n",
       "    </tr>\n",
       "    <tr>\n",
       "      <th>trend_variation3</th>\n",
       "      <td>0.052512</td>\n",
       "      <td>0.073767</td>\n",
       "      <td>0.077483</td>\n",
       "      <td>0.074085</td>\n",
       "      <td>0.000757</td>\n",
       "      <td>0.043654</td>\n",
       "      <td>-0.258744</td>\n",
       "      <td>-0.154399</td>\n",
       "      <td>-0.215509</td>\n",
       "      <td>0.056872</td>\n",
       "      <td>-0.114744</td>\n",
       "      <td>0.222745</td>\n",
       "      <td>0.358270</td>\n",
       "      <td>0.227994</td>\n",
       "      <td>0.360490</td>\n",
       "      <td>0.361011</td>\n",
       "      <td>-0.004508</td>\n",
       "      <td>0.985194</td>\n",
       "      <td>1.000000</td>\n",
       "      <td>0.963352</td>\n",
       "      <td>0.621315</td>\n",
       "      <td>0.597456</td>\n",
       "      <td>0.585761</td>\n",
       "    </tr>\n",
       "    <tr>\n",
       "      <th>trend_variation15</th>\n",
       "      <td>0.052131</td>\n",
       "      <td>0.073210</td>\n",
       "      <td>0.075591</td>\n",
       "      <td>0.072000</td>\n",
       "      <td>0.009073</td>\n",
       "      <td>0.035652</td>\n",
       "      <td>-0.254830</td>\n",
       "      <td>-0.152750</td>\n",
       "      <td>-0.207308</td>\n",
       "      <td>0.052631</td>\n",
       "      <td>-0.116968</td>\n",
       "      <td>0.221559</td>\n",
       "      <td>0.367550</td>\n",
       "      <td>0.226436</td>\n",
       "      <td>0.370684</td>\n",
       "      <td>0.373837</td>\n",
       "      <td>0.018492</td>\n",
       "      <td>0.942083</td>\n",
       "      <td>0.963352</td>\n",
       "      <td>1.000000</td>\n",
       "      <td>0.709487</td>\n",
       "      <td>0.686113</td>\n",
       "      <td>0.674446</td>\n",
       "    </tr>\n",
       "    <tr>\n",
       "      <th>lag_2_adj</th>\n",
       "      <td>-0.005109</td>\n",
       "      <td>-0.012684</td>\n",
       "      <td>-0.020834</td>\n",
       "      <td>-0.018607</td>\n",
       "      <td>0.025222</td>\n",
       "      <td>0.012614</td>\n",
       "      <td>-0.115650</td>\n",
       "      <td>-0.043526</td>\n",
       "      <td>-0.091683</td>\n",
       "      <td>0.005072</td>\n",
       "      <td>-0.046970</td>\n",
       "      <td>0.113976</td>\n",
       "      <td>0.317699</td>\n",
       "      <td>0.144289</td>\n",
       "      <td>0.338535</td>\n",
       "      <td>0.361848</td>\n",
       "      <td>0.094469</td>\n",
       "      <td>0.600985</td>\n",
       "      <td>0.621315</td>\n",
       "      <td>0.709487</td>\n",
       "      <td>1.000000</td>\n",
       "      <td>0.969026</td>\n",
       "      <td>0.952817</td>\n",
       "    </tr>\n",
       "    <tr>\n",
       "      <th>lag_4_adj</th>\n",
       "      <td>-0.003255</td>\n",
       "      <td>-0.015288</td>\n",
       "      <td>-0.017542</td>\n",
       "      <td>-0.016831</td>\n",
       "      <td>0.021133</td>\n",
       "      <td>0.005464</td>\n",
       "      <td>-0.107653</td>\n",
       "      <td>-0.039064</td>\n",
       "      <td>-0.081117</td>\n",
       "      <td>-0.006292</td>\n",
       "      <td>-0.023134</td>\n",
       "      <td>-0.003040</td>\n",
       "      <td>0.217357</td>\n",
       "      <td>0.010640</td>\n",
       "      <td>0.241265</td>\n",
       "      <td>0.288018</td>\n",
       "      <td>0.099383</td>\n",
       "      <td>0.577189</td>\n",
       "      <td>0.597456</td>\n",
       "      <td>0.686113</td>\n",
       "      <td>0.969026</td>\n",
       "      <td>1.000000</td>\n",
       "      <td>0.985446</td>\n",
       "    </tr>\n",
       "    <tr>\n",
       "      <th>lag_5_adj</th>\n",
       "      <td>-0.003083</td>\n",
       "      <td>-0.014492</td>\n",
       "      <td>-0.016889</td>\n",
       "      <td>-0.015473</td>\n",
       "      <td>0.016481</td>\n",
       "      <td>0.002810</td>\n",
       "      <td>-0.107060</td>\n",
       "      <td>-0.040484</td>\n",
       "      <td>-0.078905</td>\n",
       "      <td>-0.006131</td>\n",
       "      <td>-0.021132</td>\n",
       "      <td>-0.024153</td>\n",
       "      <td>0.175086</td>\n",
       "      <td>-0.024164</td>\n",
       "      <td>0.194458</td>\n",
       "      <td>0.242844</td>\n",
       "      <td>0.101787</td>\n",
       "      <td>0.566374</td>\n",
       "      <td>0.585761</td>\n",
       "      <td>0.674446</td>\n",
       "      <td>0.952817</td>\n",
       "      <td>0.985446</td>\n",
       "      <td>1.000000</td>\n",
       "    </tr>\n",
       "  </tbody>\n",
       "</table>\n",
       "</div>"
      ],
      "text/plain": [
       "                     target  v_ouverture     v_bas  v_cloture  v_volume  \\\n",
       "target             1.000000     0.007153  0.004811   0.015691  0.017889   \n",
       "v_ouverture        0.007153     1.000000  0.655388   0.306666 -0.053119   \n",
       "v_bas              0.004811     0.655388  1.000000   0.743258 -0.298223   \n",
       "v_cloture          0.015691     0.306666  0.743258   1.000000 -0.115692   \n",
       "v_volume           0.017889    -0.053119 -0.298223  -0.115692  1.000000   \n",
       "d_o_h              0.007965     0.046840 -0.179307  -0.371806 -0.070428   \n",
       "d_o_b             -0.018535    -0.027911 -0.406124  -0.452897  0.191180   \n",
       "d_o_c             -0.017338    -0.011393 -0.411728  -0.675109  0.089030   \n",
       "d_h_b             -0.018694    -0.051604 -0.171464  -0.075549  0.184927   \n",
       "cons_increase     -0.006398     0.287882  0.418378   0.474140 -0.014296   \n",
       "cons_decrease      0.001069    -0.330941 -0.467484  -0.529658  0.060789   \n",
       "macd_2_5           0.007897     0.417542  0.419184   0.381931 -0.031244   \n",
       "macd_2_15         -0.004323     0.267729  0.254014   0.225725  0.001295   \n",
       "macd_3_5           0.005627     0.344220  0.330534   0.294224 -0.013900   \n",
       "macd_3_15         -0.006457     0.212651  0.193307   0.168017  0.010565   \n",
       "macd_5_15         -0.009641     0.144396  0.125499   0.106813  0.017309   \n",
       "trend             -0.005626     0.003970  0.002270   0.002261  0.013884   \n",
       "trend_variation1   0.053367     0.072122  0.074101   0.071437  0.002778   \n",
       "trend_variation3   0.052512     0.073767  0.077483   0.074085  0.000757   \n",
       "trend_variation15  0.052131     0.073210  0.075591   0.072000  0.009073   \n",
       "lag_2_adj         -0.005109    -0.012684 -0.020834  -0.018607  0.025222   \n",
       "lag_4_adj         -0.003255    -0.015288 -0.017542  -0.016831  0.021133   \n",
       "lag_5_adj         -0.003083    -0.014492 -0.016889  -0.015473  0.016481   \n",
       "\n",
       "                      d_o_h     d_o_b     d_o_c     d_h_b  cons_increase  \\\n",
       "target             0.007965 -0.018535 -0.017338 -0.018694      -0.006398   \n",
       "v_ouverture        0.046840 -0.027911 -0.011393 -0.051604       0.287882   \n",
       "v_bas             -0.179307 -0.406124 -0.411728 -0.171464       0.418378   \n",
       "v_cloture         -0.371806 -0.452897 -0.675109 -0.075549       0.474140   \n",
       "v_volume          -0.070428  0.191180  0.089030  0.184927      -0.014296   \n",
       "d_o_h              1.000000 -0.030509  0.566851 -0.694994      -0.200906   \n",
       "d_o_b             -0.030509  1.000000  0.694778  0.739885      -0.256445   \n",
       "d_o_c              0.566851  0.694778  1.000000  0.118272      -0.371268   \n",
       "d_h_b             -0.694994  0.739885  0.118272  1.000000      -0.049254   \n",
       "cons_increase     -0.200906 -0.256445 -0.371268 -0.049254       1.000000   \n",
       "cons_decrease      0.209004  0.288671  0.418322  0.066986      -0.514134   \n",
       "macd_2_5          -0.153003 -0.357361 -0.438846 -0.154090       0.336443   \n",
       "macd_2_15         -0.055512 -0.261334 -0.277607 -0.150628       0.220135   \n",
       "macd_3_5          -0.098105 -0.297417 -0.347363 -0.147918       0.279316   \n",
       "macd_3_15         -0.023871 -0.217883 -0.215473 -0.140668       0.176684   \n",
       "macd_5_15          0.003231 -0.166018 -0.146779 -0.121600       0.122159   \n",
       "trend             -0.583133  0.474291 -0.012294  0.733657      -0.010196   \n",
       "trend_variation1   0.045597 -0.253365 -0.149822 -0.212947       0.054321   \n",
       "trend_variation3   0.043654 -0.258744 -0.154399 -0.215509       0.056872   \n",
       "trend_variation15  0.035652 -0.254830 -0.152750 -0.207308       0.052631   \n",
       "lag_2_adj          0.012614 -0.115650 -0.043526 -0.091683       0.005072   \n",
       "lag_4_adj          0.005464 -0.107653 -0.039064 -0.081117      -0.006292   \n",
       "lag_5_adj          0.002810 -0.107060 -0.040484 -0.078905      -0.006131   \n",
       "\n",
       "                   cons_decrease  macd_2_5  macd_2_15  macd_3_5  macd_3_15  \\\n",
       "target                  0.001069  0.007897  -0.004323  0.005627  -0.006457   \n",
       "v_ouverture            -0.330941  0.417542   0.267729  0.344220   0.212651   \n",
       "v_bas                  -0.467484  0.419184   0.254014  0.330534   0.193307   \n",
       "v_cloture              -0.529658  0.381931   0.225725  0.294224   0.168017   \n",
       "v_volume                0.060789 -0.031244   0.001295 -0.013900   0.010565   \n",
       "d_o_h                   0.209004 -0.153003  -0.055512 -0.098105  -0.023871   \n",
       "d_o_b                   0.288671 -0.357361  -0.261334 -0.297417  -0.217883   \n",
       "d_o_c                   0.418322 -0.438846  -0.277607 -0.347363  -0.215473   \n",
       "d_h_b                   0.066986 -0.154090  -0.150628 -0.147918  -0.140668   \n",
       "cons_increase          -0.514134  0.336443   0.220135  0.279316   0.176684   \n",
       "cons_decrease           1.000000 -0.429146  -0.288419 -0.367751  -0.236795   \n",
       "macd_2_5               -0.429146  1.000000   0.749595  0.965717   0.665784   \n",
       "macd_2_15              -0.288419  0.749595   1.000000  0.775315   0.990943   \n",
       "macd_3_5               -0.367751  0.965717   0.775315  1.000000   0.717289   \n",
       "macd_3_15              -0.236795  0.665784   0.990943  0.717289   1.000000   \n",
       "macd_5_15              -0.165875  0.488698   0.943800  0.539719   0.973712   \n",
       "trend                   0.015968  0.000235   0.006333  0.000957   0.007071   \n",
       "trend_variation1       -0.114311  0.220863   0.351732  0.226182   0.353645   \n",
       "trend_variation3       -0.114744  0.222745   0.358270  0.227994   0.360490   \n",
       "trend_variation15      -0.116968  0.221559   0.367550  0.226436   0.370684   \n",
       "lag_2_adj              -0.046970  0.113976   0.317699  0.144289   0.338535   \n",
       "lag_4_adj              -0.023134 -0.003040   0.217357  0.010640   0.241265   \n",
       "lag_5_adj              -0.021132 -0.024153   0.175086 -0.024164   0.194458   \n",
       "\n",
       "                   macd_5_15     trend  trend_variation1  trend_variation3  \\\n",
       "target             -0.009641 -0.005626          0.053367          0.052512   \n",
       "v_ouverture         0.144396  0.003970          0.072122          0.073767   \n",
       "v_bas               0.125499  0.002270          0.074101          0.077483   \n",
       "v_cloture           0.106813  0.002261          0.071437          0.074085   \n",
       "v_volume            0.017309  0.013884          0.002778          0.000757   \n",
       "d_o_h               0.003231 -0.583133          0.045597          0.043654   \n",
       "d_o_b              -0.166018  0.474291         -0.253365         -0.258744   \n",
       "d_o_c              -0.146779 -0.012294         -0.149822         -0.154399   \n",
       "d_h_b              -0.121600  0.733657         -0.212947         -0.215509   \n",
       "cons_increase       0.122159 -0.010196          0.054321          0.056872   \n",
       "cons_decrease      -0.165875  0.015968         -0.114311         -0.114744   \n",
       "macd_2_5            0.488698  0.000235          0.220863          0.222745   \n",
       "macd_2_15           0.943800  0.006333          0.351732          0.358270   \n",
       "macd_3_5            0.539719  0.000957          0.226182          0.227994   \n",
       "macd_3_15           0.973712  0.007071          0.353645          0.360490   \n",
       "macd_5_15           1.000000  0.008230          0.353333          0.361011   \n",
       "trend               0.008230  1.000000         -0.008291         -0.004508   \n",
       "trend_variation1    0.353333 -0.008291          1.000000          0.985194   \n",
       "trend_variation3    0.361011 -0.004508          0.985194          1.000000   \n",
       "trend_variation15   0.373837  0.018492          0.942083          0.963352   \n",
       "lag_2_adj           0.361848  0.094469          0.600985          0.621315   \n",
       "lag_4_adj           0.288018  0.099383          0.577189          0.597456   \n",
       "lag_5_adj           0.242844  0.101787          0.566374          0.585761   \n",
       "\n",
       "                   trend_variation15  lag_2_adj  lag_4_adj  lag_5_adj  \n",
       "target                      0.052131  -0.005109  -0.003255  -0.003083  \n",
       "v_ouverture                 0.073210  -0.012684  -0.015288  -0.014492  \n",
       "v_bas                       0.075591  -0.020834  -0.017542  -0.016889  \n",
       "v_cloture                   0.072000  -0.018607  -0.016831  -0.015473  \n",
       "v_volume                    0.009073   0.025222   0.021133   0.016481  \n",
       "d_o_h                       0.035652   0.012614   0.005464   0.002810  \n",
       "d_o_b                      -0.254830  -0.115650  -0.107653  -0.107060  \n",
       "d_o_c                      -0.152750  -0.043526  -0.039064  -0.040484  \n",
       "d_h_b                      -0.207308  -0.091683  -0.081117  -0.078905  \n",
       "cons_increase               0.052631   0.005072  -0.006292  -0.006131  \n",
       "cons_decrease              -0.116968  -0.046970  -0.023134  -0.021132  \n",
       "macd_2_5                    0.221559   0.113976  -0.003040  -0.024153  \n",
       "macd_2_15                   0.367550   0.317699   0.217357   0.175086  \n",
       "macd_3_5                    0.226436   0.144289   0.010640  -0.024164  \n",
       "macd_3_15                   0.370684   0.338535   0.241265   0.194458  \n",
       "macd_5_15                   0.373837   0.361848   0.288018   0.242844  \n",
       "trend                       0.018492   0.094469   0.099383   0.101787  \n",
       "trend_variation1            0.942083   0.600985   0.577189   0.566374  \n",
       "trend_variation3            0.963352   0.621315   0.597456   0.585761  \n",
       "trend_variation15           1.000000   0.709487   0.686113   0.674446  \n",
       "lag_2_adj                   0.709487   1.000000   0.969026   0.952817  \n",
       "lag_4_adj                   0.686113   0.969026   1.000000   0.985446  \n",
       "lag_5_adj                   0.674446   0.952817   0.985446   1.000000  "
      ]
     },
     "execution_count": 43,
     "metadata": {},
     "output_type": "execute_result"
    }
   ],
   "source": [
    "data.corr()"
   ]
  },
  {
   "cell_type": "markdown",
   "id": "ee8d6bd4",
   "metadata": {},
   "source": [
    "# Split"
   ]
  },
  {
   "cell_type": "code",
   "execution_count": 44,
   "id": "300f5496",
   "metadata": {},
   "outputs": [],
   "source": [
    "# Reset index to ease further treatments\n",
    "data.reset_index(inplace=True)\n",
    "data.drop('index', axis=1, inplace=True)"
   ]
  },
  {
   "cell_type": "code",
   "execution_count": 45,
   "id": "fabe01d8",
   "metadata": {},
   "outputs": [
    {
     "name": "stdout",
     "output_type": "stream",
     "text": [
      "X_test (270, 22)\n",
      "y_test (270, 1)\n"
     ]
    }
   ],
   "source": [
    "# Collect 270 rows for the test dataset\n",
    "X_test = data.loc[3801:, (data.columns != 'target')]\n",
    "y_test = data.loc[3801:, (data.columns == 'target')]\n",
    "print('X_test', X_test.shape)\n",
    "print('y_test', y_test.shape)"
   ]
  },
  {
   "cell_type": "code",
   "execution_count": 46,
   "id": "fc263a8f",
   "metadata": {},
   "outputs": [
    {
     "data": {
      "text/plain": [
       "(3801, 23)"
      ]
     },
     "execution_count": 46,
     "metadata": {},
     "output_type": "execute_result"
    }
   ],
   "source": [
    "# Remove these rows from data\n",
    "data = data.loc[:3800]\n",
    "data.shape"
   ]
  },
  {
   "cell_type": "code",
   "execution_count": 47,
   "id": "61ded66f",
   "metadata": {},
   "outputs": [
    {
     "name": "stdout",
     "output_type": "stream",
     "text": [
      "X (3801, 22)\n",
      "y (3801, 1)\n"
     ]
    }
   ],
   "source": [
    "X = data.loc[:, (data.columns != 'target')]\n",
    "y = data[['target']]\n",
    "print('X', X.shape)\n",
    "print('y', y.shape)"
   ]
  },
  {
   "cell_type": "markdown",
   "id": "624df7e9",
   "metadata": {},
   "source": [
    "# Features importance"
   ]
  },
  {
   "cell_type": "code",
   "execution_count": 48,
   "id": "5bac4e85",
   "metadata": {},
   "outputs": [],
   "source": [
    "scaler = StandardScaler()"
   ]
  },
  {
   "cell_type": "code",
   "execution_count": 49,
   "id": "e6c0c154",
   "metadata": {},
   "outputs": [],
   "source": [
    "model = LogisticRegression(penalty='l1',\n",
    "                           tol=1e-4,\n",
    "                           max_iter=100,\n",
    "                           class_weight='balanced',\n",
    "                           solver='saga',\n",
    "                           l1_ratio=0.5,\n",
    "                           warm_start=False, n_jobs=-1)"
   ]
  },
  {
   "cell_type": "code",
   "execution_count": 50,
   "id": "8240ee44",
   "metadata": {},
   "outputs": [],
   "source": [
    "pipe = Pipeline(steps =[\n",
    "        ('scaler', scaler),\n",
    "        ('model', model)])"
   ]
  },
  {
   "cell_type": "code",
   "execution_count": 51,
   "id": "91c8d24a",
   "metadata": {},
   "outputs": [],
   "source": [
    "tscv = TimeSeriesSplit(n_splits=5)"
   ]
  },
  {
   "cell_type": "code",
   "execution_count": 52,
   "id": "866862c1",
   "metadata": {},
   "outputs": [],
   "source": [
    "for train_index, val_index in tscv.split(X):\n",
    "    X_train = X.iloc[train_index]\n",
    "    y_train = y.iloc[train_index]\n",
    "    \n",
    "    pipe.fit(X_train, y_train)"
   ]
  },
  {
   "cell_type": "code",
   "execution_count": 53,
   "id": "e8558add",
   "metadata": {},
   "outputs": [
    {
     "data": {
      "image/png": "[encoded data removed]",
      "text/plain": [
       "<Figure size 1728x720 with 1 Axes>"
      ]
     },
     "metadata": {
      "needs_background": "light"
     },
     "output_type": "display_data"
    }
   ],
   "source": [
    "importances = pipe.steps[1][1].coef_[0]\n",
    "indices = np.argsort(importances)\n",
    "\n",
    "features = X_train.columns\n",
    "fig = plt.figure(figsize=(24, 10))\n",
    "plt.title('Feature Importances')\n",
    "plt.barh(range(len(indices)), importances[indices], color='b', align='center')\n",
    "plt.yticks(range(len(indices)), [features[i] for i in indices])\n",
    "plt.xlabel('Relative Importance')\n",
    "plt.show()"
   ]
  },
  {
   "cell_type": "code",
   "execution_count": 54,
   "id": "9db8c839",
   "metadata": {},
   "outputs": [],
   "source": [
    "# Update with most important variables\n",
    "X_test.drop(X_train.columns[pipe.steps[1][1].coef_[0]<=0], axis=1, inplace=True)\n",
    "X.drop(X_train.columns[pipe.steps[1][1].coef_[0]<=0], axis=1, inplace=True)"
   ]
  },
  {
   "cell_type": "code",
   "execution_count": 55,
   "id": "ff6bf9c2",
   "metadata": {},
   "outputs": [
    {
     "data": {
      "text/html": [
       "<div>\n",
       "<style scoped>\n",
       "    .dataframe tbody tr th:only-of-type {\n",
       "        vertical-align: middle;\n",
       "    }\n",
       "\n",
       "    .dataframe tbody tr th {\n",
       "        vertical-align: top;\n",
       "    }\n",
       "\n",
       "    .dataframe thead th {\n",
       "        text-align: right;\n",
       "    }\n",
       "</style>\n",
       "<table border=\"1\" class=\"dataframe\">\n",
       "  <thead>\n",
       "    <tr style=\"text-align: right;\">\n",
       "      <th></th>\n",
       "      <th>v_cloture</th>\n",
       "      <th>v_volume</th>\n",
       "      <th>d_o_h</th>\n",
       "      <th>d_o_b</th>\n",
       "      <th>cons_decrease</th>\n",
       "      <th>macd_3_5</th>\n",
       "      <th>trend</th>\n",
       "      <th>trend_variation15</th>\n",
       "    </tr>\n",
       "  </thead>\n",
       "  <tbody>\n",
       "    <tr>\n",
       "      <th>0</th>\n",
       "      <td>3.952991</td>\n",
       "      <td>-19.102640</td>\n",
       "      <td>-1.45</td>\n",
       "      <td>0.00</td>\n",
       "      <td>0.0</td>\n",
       "      <td>1.469000</td>\n",
       "      <td>43.137611</td>\n",
       "      <td>1.130889</td>\n",
       "    </tr>\n",
       "    <tr>\n",
       "      <th>1</th>\n",
       "      <td>-1.808839</td>\n",
       "      <td>-48.998794</td>\n",
       "      <td>0.00</td>\n",
       "      <td>1.29</td>\n",
       "      <td>1.0</td>\n",
       "      <td>1.259000</td>\n",
       "      <td>43.195889</td>\n",
       "      <td>1.104000</td>\n",
       "    </tr>\n",
       "    <tr>\n",
       "      <th>2</th>\n",
       "      <td>-0.397739</td>\n",
       "      <td>-2.327757</td>\n",
       "      <td>-0.44</td>\n",
       "      <td>0.93</td>\n",
       "      <td>2.0</td>\n",
       "      <td>0.664000</td>\n",
       "      <td>43.252056</td>\n",
       "      <td>1.080222</td>\n",
       "    </tr>\n",
       "    <tr>\n",
       "      <th>3</th>\n",
       "      <td>0.483396</td>\n",
       "      <td>-18.583407</td>\n",
       "      <td>-0.73</td>\n",
       "      <td>0.35</td>\n",
       "      <td>0.0</td>\n",
       "      <td>0.321667</td>\n",
       "      <td>43.303778</td>\n",
       "      <td>1.054167</td>\n",
       "    </tr>\n",
       "    <tr>\n",
       "      <th>4</th>\n",
       "      <td>-2.572684</td>\n",
       "      <td>-19.836082</td>\n",
       "      <td>-0.20</td>\n",
       "      <td>1.35</td>\n",
       "      <td>1.0</td>\n",
       "      <td>-0.191333</td>\n",
       "      <td>43.344389</td>\n",
       "      <td>1.011278</td>\n",
       "    </tr>\n",
       "  </tbody>\n",
       "</table>\n",
       "</div>"
      ],
      "text/plain": [
       "   v_cloture   v_volume  d_o_h  d_o_b  cons_decrease  macd_3_5      trend  \\\n",
       "0   3.952991 -19.102640  -1.45   0.00            0.0  1.469000  43.137611   \n",
       "1  -1.808839 -48.998794   0.00   1.29            1.0  1.259000  43.195889   \n",
       "2  -0.397739  -2.327757  -0.44   0.93            2.0  0.664000  43.252056   \n",
       "3   0.483396 -18.583407  -0.73   0.35            0.0  0.321667  43.303778   \n",
       "4  -2.572684 -19.836082  -0.20   1.35            1.0 -0.191333  43.344389   \n",
       "\n",
       "   trend_variation15  \n",
       "0           1.130889  \n",
       "1           1.104000  \n",
       "2           1.080222  \n",
       "3           1.054167  \n",
       "4           1.011278  "
      ]
     },
     "execution_count": 55,
     "metadata": {},
     "output_type": "execute_result"
    }
   ],
   "source": [
    "X.head()"
   ]
  },
  {
   "cell_type": "markdown",
   "id": "23c47e6e",
   "metadata": {},
   "source": [
    "# Modelization"
   ]
  },
  {
   "cell_type": "code",
   "execution_count": 56,
   "id": "f15e5436",
   "metadata": {
    "scrolled": true
   },
   "outputs": [
    {
     "name": "stdout",
     "output_type": "stream",
     "text": [
      "Max accuracy: 0\n",
      "0.5082872928176796\n",
      "[[17 69]\n",
      " [20 75]]\n",
      "0.5469613259668509\n",
      "[[97  0]\n",
      " [82  2]]\n",
      "0.56353591160221\n",
      "[[ 5 76]\n",
      " [ 3 97]]\n"
     ]
    }
   ],
   "source": [
    "tscv = TimeSeriesSplit(n_splits=20)\n",
    "\n",
    "try:\n",
    "    max_accuracy = joblib.load('max_accuracy.jl')\n",
    "except:\n",
    "    max_accuracy = 0\n",
    "\n",
    "print('Max accuracy:', max_accuracy)\n",
    "\n",
    "for train_index, val_index in tscv.split(X):\n",
    "    X_train, X_val = X.iloc[train_index], X.iloc[val_index]\n",
    "    y_train, y_val = y.iloc[train_index], y.iloc[val_index]\n",
    "\n",
    "    pipe.fit(X_train, y_train)\n",
    "\n",
    "    predictions = pipe.predict(X_val)\n",
    "    accuracy = accuracy_score(y_val, predictions)\n",
    "\n",
    "    if accuracy > max_accuracy:\n",
    "        max_accuracy = accuracy\n",
    "        print(accuracy)\n",
    "        print(confusion_matrix(y_val, predictions))\n",
    "        joblib.dump(pipe, 'ts_model.jl')\n",
    "        joblib.dump(accuracy, 'max_accuracy.jl')"
   ]
  },
  {
   "cell_type": "markdown",
   "id": "389d425a",
   "metadata": {},
   "source": [
    "## Tuning"
   ]
  },
  {
   "cell_type": "code",
   "execution_count": 57,
   "id": "4cfa6ddf",
   "metadata": {},
   "outputs": [
    {
     "name": "stdout",
     "output_type": "stream",
     "text": [
      "Start:  Wed Mar 30 16:08:53 2022\n",
      "Max accuracy: 0.56353591160221\n",
      "0.569060773480663\n",
      "[[ 6 75]\n",
      " [ 3 97]]\n",
      "\n",
      "End:  Wed Mar 30 16:09:03 2022\n"
     ]
    }
   ],
   "source": [
    "print('Start: ', time.asctime())\n",
    "\n",
    "penalties = ['l1', 'l2', 'elasticnet', 'none']\n",
    "tols = [1e-5, 1e-4, 1e-3]\n",
    "max_iters = [100, 200, 500, 1000]\n",
    "\n",
    "scaler_final = StandardScaler()\n",
    "\n",
    "try:\n",
    "    max_accuracy = joblib.load('max_accuracy.jl')\n",
    "except:\n",
    "    max_accuracy = 0\n",
    "\n",
    "print('Max accuracy:', max_accuracy)\n",
    "\n",
    "for penalty in penalties:\n",
    "    for tol in tols:\n",
    "        for max_iter in max_iters:\n",
    "            for train_index, val_index in tscv.split(X):\n",
    "                X_train, X_val = X.iloc[train_index], X.iloc[val_index]\n",
    "                y_train, y_val = y.iloc[train_index], y.iloc[val_index]\n",
    "\n",
    "                lr_final = LogisticRegression(penalty=penalty,\n",
    "                                              tol=tol,\n",
    "                                              max_iter=max_iter,\n",
    "                                              class_weight='balanced',\n",
    "                                              solver='saga',\n",
    "                                              l1_ratio=0.5,\n",
    "                                              warm_start=False, n_jobs=-1)\n",
    "\n",
    "                pipe_final = Pipeline(steps=[\n",
    "                    ('scaler', scaler_final),\n",
    "                    ('model', lr_final)])\n",
    "\n",
    "                pipe_final.fit(X_train, y_train)\n",
    "\n",
    "                predictions = pipe_final.predict(X_val)\n",
    "                accuracy = accuracy_score(y_val, predictions)\n",
    "\n",
    "                if accuracy > max_accuracy:\n",
    "                    max_accuracy = accuracy\n",
    "                    print(accuracy)\n",
    "                    print(confusion_matrix(y_val, predictions))\n",
    "                    joblib.dump(pipe, 'ts_model.jl')\n",
    "                    joblib.dump(accuracy, 'max_accuracy.jl')\n",
    "                    print('')\n",
    "\n",
    "print('End: ', time.asctime())"
   ]
  },
  {
   "cell_type": "markdown",
   "id": "b8b6dffe",
   "metadata": {},
   "source": [
    "## Evaluation"
   ]
  },
  {
   "cell_type": "code",
   "execution_count": 58,
   "id": "6b364a57",
   "metadata": {},
   "outputs": [],
   "source": [
    "def validation(model):    \n",
    "    # Test the model\n",
    "    final_pred = model.predict(X_test)\n",
    "    \n",
    "    # confusion matrix\n",
    "    print('confusion matrix')\n",
    "    print(confusion_matrix(y_test, final_pred))\n",
    "    print('')\n",
    "    \n",
    "    max_pred_accuracy = accuracy_score(y_test, final_pred)\n",
    "    print(\"accuracy:\", max_pred_accuracy)"
   ]
  },
  {
   "cell_type": "code",
   "execution_count": 59,
   "id": "8ecacbaf",
   "metadata": {},
   "outputs": [
    {
     "name": "stdout",
     "output_type": "stream",
     "text": [
      "confusion matrix\n",
      "[[67 75]\n",
      " [58 70]]\n",
      "\n",
      "accuracy: 0.5074074074074074\n"
     ]
    }
   ],
   "source": [
    "ts_model = joblib.load('ts_model.jl')\n",
    "validation(ts_model)"
   ]
  },
  {
   "cell_type": "code",
   "execution_count": null,
   "id": "7aa1f745",
   "metadata": {},
   "outputs": [],
   "source": []
  }
 ],
 "metadata": {
  "kernelspec": {
   "display_name": "tfp7",
   "language": "python",
   "name": "tfp7"
  },
  "language_info": {
   "codemirror_mode": {
    "name": "ipython",
    "version": 3
   },
   "file_extension": ".py",
   "mimetype": "text/x-python",
   "name": "python",
   "nbconvert_exporter": "python",
   "pygments_lexer": "ipython3",
   "version": "3.9.7"
  },
  "toc": {
   "base_numbering": 1,
   "nav_menu": {},
   "number_sections": true,
   "sideBar": true,
   "skip_h1_title": false,
   "title_cell": "Table of Contents",
   "title_sidebar": "Contents",
   "toc_cell": false,
   "toc_position": {
    "height": "calc(100% - 180px)",
    "left": "10px",
    "top": "150px",
    "width": "307.2px"
   },
   "toc_section_display": true,
   "toc_window_display": true
  }
 },
 "nbformat": 4,
 "nbformat_minor": 5
}
